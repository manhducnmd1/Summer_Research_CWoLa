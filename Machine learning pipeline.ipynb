{
 "cells": [
  {
   "cell_type": "code",
   "execution_count": 1,
   "id": "5b65c873",
   "metadata": {},
   "outputs": [],
   "source": [
    "import os\n",
    "import numpy as np\n",
    "import tensorflow as tf\n",
    "from tensorflow import keras\n",
    "from tensorflow.keras import layers\n",
    "from matplotlib import pyplot as plt\n",
    "from matplotlib import colors as mcolors\n",
    "from sklearn.metrics import roc_curve, roc_auc_score\n",
    "from scipy import interpolate\n",
    "from sklearn.utils import shuffle"
   ]
  },
  {
   "cell_type": "code",
   "execution_count": 2,
   "id": "dde1457d",
   "metadata": {},
   "outputs": [
    {
     "name": "stderr",
     "output_type": "stream",
     "text": [
      "2024-07-08 13:10:44.596433: I tensorflow/stream_executor/platform/default/dso_loader.cc:44] Successfully opened dynamic library libcuda.so.1\n",
      "2024-07-08 13:10:45.072690: I tensorflow/core/common_runtime/gpu/gpu_device.cc:1618] Found device 0 with properties: \n",
      "name: NVIDIA TITAN Xp major: 6 minor: 1 memoryClockRate(GHz): 1.582\n",
      "pciBusID: 0000:3b:00.0\n",
      "2024-07-08 13:10:45.073109: I tensorflow/stream_executor/platform/default/dso_loader.cc:44] Successfully opened dynamic library libcudart.so.10.0\n",
      "2024-07-08 13:10:45.075525: I tensorflow/stream_executor/platform/default/dso_loader.cc:44] Successfully opened dynamic library libcublas.so.10.0\n",
      "2024-07-08 13:10:45.077098: I tensorflow/stream_executor/platform/default/dso_loader.cc:44] Successfully opened dynamic library libcufft.so.10.0\n",
      "2024-07-08 13:10:45.077484: I tensorflow/stream_executor/platform/default/dso_loader.cc:44] Successfully opened dynamic library libcurand.so.10.0\n",
      "2024-07-08 13:10:45.079590: I tensorflow/stream_executor/platform/default/dso_loader.cc:44] Successfully opened dynamic library libcusolver.so.10.0\n",
      "2024-07-08 13:10:45.081355: I tensorflow/stream_executor/platform/default/dso_loader.cc:44] Successfully opened dynamic library libcusparse.so.10.0\n",
      "2024-07-08 13:10:45.086352: I tensorflow/stream_executor/platform/default/dso_loader.cc:44] Successfully opened dynamic library libcudnn.so.7\n",
      "2024-07-08 13:10:45.087694: I tensorflow/core/common_runtime/gpu/gpu_device.cc:1746] Adding visible gpu devices: 0\n"
     ]
    }
   ],
   "source": [
    "os.environ[\"CUDA_VISIBLE_DEVICES\"] = '0'\n",
    "from tensorflow.python.client import device_lib\n",
    "physical_gpus = tf.config.experimental.list_physical_devices('GPU')\n",
    "tf.config.experimental.set_memory_growth(physical_gpus[0], True)"
   ]
  },
  {
   "cell_type": "code",
   "execution_count": 3,
   "id": "1185928d",
   "metadata": {},
   "outputs": [
    {
     "data": {
      "application/javascript": [
       "IPython.notebook.set_autosave_interval(5000)"
      ]
     },
     "metadata": {},
     "output_type": "display_data"
    },
    {
     "name": "stdout",
     "output_type": "stream",
     "text": [
      "Autosaving every 5 seconds\n"
     ]
    }
   ],
   "source": [
    "#Reading files into a log\n",
    "import sys\n",
    "import logging\n",
    "\n",
    "nblog = open(\"nb_id.log\", \"a+\")\n",
    "sys.stdout.echo = nblog\n",
    "sys.stderr.echo = nblog\n",
    "\n",
    "get_ipython().log.handlers[0].stream = nblog\n",
    "get_ipython().log.setLevel(logging.INFO)\n",
    "\n",
    "%autosave 5"
   ]
  },
  {
   "cell_type": "code",
   "execution_count": 3,
   "id": "59896e50",
   "metadata": {},
   "outputs": [],
   "source": [
    "os.chdir(r'/home/manhducnmd/pp_dijet/Results_full')"
   ]
  },
  {
   "cell_type": "code",
   "execution_count": 4,
   "id": "6bc0376b",
   "metadata": {},
   "outputs": [],
   "source": [
    "np.random.seed(42)"
   ]
  },
  {
   "cell_type": "code",
   "execution_count": 5,
   "id": "f22518c5",
   "metadata": {},
   "outputs": [],
   "source": [
    "tf.random.set_seed(42)"
   ]
  },
  {
   "cell_type": "code",
   "execution_count": 24,
   "id": "d57aaf72",
   "metadata": {},
   "outputs": [],
   "source": [
    "def CWoLA(p_i):\n",
    "    \n",
    "    input_1 = keras.layers.Input(shape = (p_i,p_i,1), name = \"jet_1\")\n",
    "    y = keras.layers.BatchNormalization()(input_1)\n",
    "    input_2 = keras.layers.Input(shape = (p_i,p_i,1), name = \"jet_2\")\n",
    "    z = keras.layers.BatchNormalization()(input_2)\n",
    "    \n",
    "    cnn = keras.Sequential([\n",
    "        keras.layers.Conv2D(64, (5,5), padding = 'same', activation = 'relu'),\n",
    "        keras.layers.MaxPool2D(pool_size = (2,2)),\n",
    "        keras.layers.Conv2D(64, (5, 5), padding = 'same', activation = 'relu'),\n",
    "        keras.layers.MaxPool2D(pool_size = (2,2)),\n",
    "        keras.layers.Conv2D(128, (3,3), padding = 'same', activation = 'relu'),\n",
    "        keras.layers.MaxPool2D(pool_size = (2,2)),    \n",
    "        keras.layers.Conv2D(128, (3,3), padding = 'same', activation = 'relu'),\n",
    "        keras.layers.Flatten(),\n",
    "    ])\n",
    "        \n",
    "    dnn = keras.Sequential([\n",
    "          keras.layers.Dense(128, activation = 'relu'),\n",
    "          keras.layers.Dense(128, activation = 'relu'),\n",
    "          keras.layers.Dense(128, activation = 'relu'),\n",
    "          keras.layers.Dense(1, activation = 'sigmoid')\n",
    "    ])\n",
    "    \n",
    "    x_1 = dnn(cnn(y))\n",
    "    x_2 = dnn(cnn(z))\n",
    "    \n",
    "    x = keras.layers.Multiply()([x_1, x_2])\n",
    "    \n",
    "    return keras.Model(         \n",
    "    inputs=[input_1, input_2],\n",
    "    outputs=x,)"
   ]
  },
  {
   "cell_type": "code",
   "execution_count": null,
   "id": "90999d97",
   "metadata": {},
   "outputs": [
    {
     "name": "stdout",
     "output_type": "stream",
     "text": [
      "Training with significance = 0.32, run 0\n",
      "Train on 40455 samples, validate on 10114 samples\n",
      "Epoch 1/1000\n",
      "40455/40455 [==============================] - 6s 139us/sample - loss: 0.7126 - accuracy: 0.5116 - val_loss: 0.7026 - val_accuracy: 0.5163\n",
      "Epoch 2/1000\n",
      "40455/40455 [==============================] - 4s 106us/sample - loss: 0.6965 - accuracy: 0.5139 - val_loss: 0.6925 - val_accuracy: 0.5154\n",
      "Epoch 3/1000\n",
      "40455/40455 [==============================] - 4s 106us/sample - loss: 0.6938 - accuracy: 0.5117 - val_loss: 0.6928 - val_accuracy: 0.5111\n",
      "Epoch 4/1000\n",
      "40455/40455 [==============================] - 4s 103us/sample - loss: 0.6940 - accuracy: 0.5145 - val_loss: 0.6924 - val_accuracy: 0.5134\n",
      "Epoch 5/1000\n",
      "40455/40455 [==============================] - 4s 107us/sample - loss: 0.6932 - accuracy: 0.5122 - val_loss: 0.6922 - val_accuracy: 0.5122\n",
      "Epoch 6/1000\n",
      "40455/40455 [==============================] - 4s 109us/sample - loss: 0.6926 - accuracy: 0.5155 - val_loss: 0.6930 - val_accuracy: 0.5171\n",
      "Epoch 7/1000\n",
      "40455/40455 [==============================] - 4s 103us/sample - loss: 0.6930 - accuracy: 0.5130 - val_loss: 0.6912 - val_accuracy: 0.5204\n",
      "Epoch 8/1000\n",
      "40455/40455 [==============================] - 4s 103us/sample - loss: 0.6925 - accuracy: 0.5169 - val_loss: 0.6958 - val_accuracy: 0.5061\n",
      "Epoch 9/1000\n",
      "40455/40455 [==============================] - 4s 106us/sample - loss: 0.6929 - accuracy: 0.5135 - val_loss: 0.6916 - val_accuracy: 0.5235\n",
      "Epoch 10/1000\n",
      "40455/40455 [==============================] - 4s 105us/sample - loss: 0.6928 - accuracy: 0.5160 - val_loss: 0.6957 - val_accuracy: 0.5013\n",
      "Epoch 11/1000\n",
      "40455/40455 [==============================] - 4s 106us/sample - loss: 0.6922 - accuracy: 0.5199 - val_loss: 0.6918 - val_accuracy: 0.5177\n",
      "Epoch 12/1000\n",
      "40455/40455 [==============================] - 4s 105us/sample - loss: 0.6925 - accuracy: 0.5145 - val_loss: 0.6919 - val_accuracy: 0.5178\n",
      "Epoch 13/1000\n",
      "40455/40455 [==============================] - 4s 103us/sample - loss: 0.6921 - accuracy: 0.5184 - val_loss: 0.6927 - val_accuracy: 0.5147\n",
      "Epoch 14/1000\n",
      "40455/40455 [==============================] - 4s 103us/sample - loss: 0.6918 - accuracy: 0.5191 - val_loss: 0.6913 - val_accuracy: 0.5216\n",
      "Epoch 15/1000\n",
      "40455/40455 [==============================] - 4s 104us/sample - loss: 0.6921 - accuracy: 0.5205 - val_loss: 0.6923 - val_accuracy: 0.5111\n",
      "Epoch 16/1000\n",
      "40455/40455 [==============================] - 4s 105us/sample - loss: 0.6917 - accuracy: 0.5227 - val_loss: 0.6929 - val_accuracy: 0.5080\n",
      "Epoch 17/1000\n",
      "40455/40455 [==============================] - 4s 103us/sample - loss: 0.6922 - accuracy: 0.5212 - val_loss: 0.6915 - val_accuracy: 0.5201\n",
      "Epoch 18/1000\n",
      "40455/40455 [==============================] - 4s 104us/sample - loss: 0.6916 - accuracy: 0.5221 - val_loss: 0.6912 - val_accuracy: 0.5222\n",
      "Epoch 19/1000\n",
      "40455/40455 [==============================] - 4s 103us/sample - loss: 0.6916 - accuracy: 0.5229 - val_loss: 0.6922 - val_accuracy: 0.5209\n",
      "Epoch 20/1000\n",
      "40455/40455 [==============================] - 4s 104us/sample - loss: 0.6911 - accuracy: 0.5264 - val_loss: 0.6919 - val_accuracy: 0.5195\n",
      "Epoch 21/1000\n",
      "40455/40455 [==============================] - 4s 107us/sample - loss: 0.6910 - accuracy: 0.5251 - val_loss: 0.6930 - val_accuracy: 0.5097\n",
      "Epoch 22/1000\n",
      "40455/40455 [==============================] - 4s 105us/sample - loss: 0.6910 - accuracy: 0.5256 - val_loss: 0.6922 - val_accuracy: 0.5171\n",
      "Epoch 23/1000\n",
      "40455/40455 [==============================] - 4s 103us/sample - loss: 0.6916 - accuracy: 0.5215 - val_loss: 0.6921 - val_accuracy: 0.5223\n",
      "Epoch 24/1000\n",
      "40455/40455 [==============================] - 4s 103us/sample - loss: 0.6910 - accuracy: 0.5269 - val_loss: 0.6917 - val_accuracy: 0.5185\n",
      "Epoch 25/1000\n",
      "40455/40455 [==============================] - 3s 72us/sample - loss: 0.6905 - accuracy: 0.5257 - val_loss: 0.6918 - val_accuracy: 0.5201\n",
      "Epoch 26/1000\n",
      "40455/40455 [==============================] - 4s 101us/sample - loss: 0.6901 - accuracy: 0.5284 - val_loss: 0.6926 - val_accuracy: 0.5140\n",
      "Epoch 27/1000\n",
      "40455/40455 [==============================] - 4s 103us/sample - loss: 0.6900 - accuracy: 0.5282 - val_loss: 0.6914 - val_accuracy: 0.5279\n",
      "Epoch 28/1000\n",
      "40455/40455 [==============================] - 4s 103us/sample - loss: 0.6895 - accuracy: 0.5307 - val_loss: 0.6924 - val_accuracy: 0.5152\n",
      "Epoch 29/1000\n",
      "40455/40455 [==============================] - 4s 104us/sample - loss: 0.6888 - accuracy: 0.5358 - val_loss: 0.6954 - val_accuracy: 0.5075\n",
      "Epoch 30/1000\n",
      "40455/40455 [==============================] - 4s 104us/sample - loss: 0.6893 - accuracy: 0.5306 - val_loss: 0.6923 - val_accuracy: 0.5197\n",
      "Epoch 31/1000\n",
      "40455/40455 [==============================] - 4s 105us/sample - loss: 0.6888 - accuracy: 0.5320 - val_loss: 0.6923 - val_accuracy: 0.5233\n",
      "Epoch 32/1000\n",
      "40455/40455 [==============================] - 4s 104us/sample - loss: 0.6870 - accuracy: 0.5393 - val_loss: 0.6944 - val_accuracy: 0.5088\n",
      "Epoch 33/1000\n",
      "40455/40455 [==============================] - 4s 104us/sample - loss: 0.6873 - accuracy: 0.5367 - val_loss: 0.6930 - val_accuracy: 0.5230\n",
      "Epoch 34/1000\n",
      "40455/40455 [==============================] - 4s 106us/sample - loss: 0.6861 - accuracy: 0.5418 - val_loss: 0.6947 - val_accuracy: 0.5107\n",
      "Epoch 35/1000\n",
      "40455/40455 [==============================] - 4s 106us/sample - loss: 0.6839 - accuracy: 0.5500 - val_loss: 0.6951 - val_accuracy: 0.5197\n",
      "Epoch 36/1000\n",
      "40455/40455 [==============================] - 4s 102us/sample - loss: 0.6821 - accuracy: 0.5543 - val_loss: 0.6966 - val_accuracy: 0.5230\n",
      "Epoch 37/1000\n",
      "40455/40455 [==============================] - 4s 107us/sample - loss: 0.6793 - accuracy: 0.5594 - val_loss: 0.6974 - val_accuracy: 0.5155\n",
      "Training with significance = 0.32, run 1\n",
      "Train on 40455 samples, validate on 10114 samples\n",
      "Epoch 1/1000\n",
      "40455/40455 [==============================] - 5s 132us/sample - loss: 0.7110 - accuracy: 0.5140 - val_loss: 0.7027 - val_accuracy: 0.5169\n",
      "Epoch 2/1000\n",
      "40455/40455 [==============================] - 4s 105us/sample - loss: 0.6970 - accuracy: 0.5129 - val_loss: 0.6927 - val_accuracy: 0.5170\n",
      "Epoch 3/1000\n",
      "40455/40455 [==============================] - 4s 106us/sample - loss: 0.6940 - accuracy: 0.5120 - val_loss: 0.6937 - val_accuracy: 0.5096\n",
      "Epoch 4/1000\n",
      "40455/40455 [==============================] - 4s 104us/sample - loss: 0.6940 - accuracy: 0.5140 - val_loss: 0.6941 - val_accuracy: 0.5099\n",
      "Epoch 5/1000\n",
      "40455/40455 [==============================] - 4s 107us/sample - loss: 0.6933 - accuracy: 0.5113 - val_loss: 0.6924 - val_accuracy: 0.5130\n",
      "Epoch 6/1000\n",
      "40455/40455 [==============================] - 4s 106us/sample - loss: 0.6926 - accuracy: 0.5160 - val_loss: 0.6926 - val_accuracy: 0.5167\n",
      "Epoch 7/1000\n",
      "40455/40455 [==============================] - 4s 104us/sample - loss: 0.6930 - accuracy: 0.5127 - val_loss: 0.6911 - val_accuracy: 0.5198\n",
      "Epoch 8/1000\n",
      "40455/40455 [==============================] - 4s 103us/sample - loss: 0.6925 - accuracy: 0.5174 - val_loss: 0.6958 - val_accuracy: 0.5055\n",
      "Epoch 9/1000\n",
      "40455/40455 [==============================] - 4s 104us/sample - loss: 0.6929 - accuracy: 0.5152 - val_loss: 0.6915 - val_accuracy: 0.5241\n",
      "Epoch 10/1000\n",
      "40455/40455 [==============================] - 4s 106us/sample - loss: 0.6929 - accuracy: 0.5148 - val_loss: 0.6953 - val_accuracy: 0.5016\n",
      "Epoch 11/1000\n",
      "40455/40455 [==============================] - 4s 107us/sample - loss: 0.6921 - accuracy: 0.5195 - val_loss: 0.6918 - val_accuracy: 0.5165\n",
      "Epoch 12/1000\n",
      "40455/40455 [==============================] - 4s 103us/sample - loss: 0.6924 - accuracy: 0.5158 - val_loss: 0.6919 - val_accuracy: 0.5167\n",
      "Epoch 13/1000\n",
      "40455/40455 [==============================] - 4s 102us/sample - loss: 0.6921 - accuracy: 0.5181 - val_loss: 0.6927 - val_accuracy: 0.5138\n",
      "Epoch 14/1000\n",
      "40455/40455 [==============================] - 4s 103us/sample - loss: 0.6918 - accuracy: 0.5188 - val_loss: 0.6915 - val_accuracy: 0.5205\n",
      "Epoch 15/1000\n",
      "40455/40455 [==============================] - 4s 103us/sample - loss: 0.6921 - accuracy: 0.5182 - val_loss: 0.6922 - val_accuracy: 0.5145\n",
      "Epoch 16/1000\n",
      "40455/40455 [==============================] - 4s 103us/sample - loss: 0.6917 - accuracy: 0.5216 - val_loss: 0.6928 - val_accuracy: 0.5079\n",
      "Epoch 17/1000\n",
      "40455/40455 [==============================] - 4s 103us/sample - loss: 0.6922 - accuracy: 0.5209 - val_loss: 0.6914 - val_accuracy: 0.5214\n",
      "Epoch 18/1000\n",
      "40455/40455 [==============================] - 4s 103us/sample - loss: 0.6917 - accuracy: 0.5224 - val_loss: 0.6913 - val_accuracy: 0.5233\n",
      "Epoch 19/1000\n",
      "40455/40455 [==============================] - 4s 105us/sample - loss: 0.6917 - accuracy: 0.5217 - val_loss: 0.6922 - val_accuracy: 0.5224\n",
      "Epoch 20/1000\n",
      "40455/40455 [==============================] - 4s 105us/sample - loss: 0.6912 - accuracy: 0.5237 - val_loss: 0.6918 - val_accuracy: 0.5156\n",
      "Epoch 21/1000\n",
      "40455/40455 [==============================] - 4s 103us/sample - loss: 0.6913 - accuracy: 0.5245 - val_loss: 0.6935 - val_accuracy: 0.5045\n",
      "Epoch 22/1000\n",
      "40455/40455 [==============================] - 4s 102us/sample - loss: 0.6912 - accuracy: 0.5250 - val_loss: 0.6922 - val_accuracy: 0.5211\n",
      "Epoch 23/1000\n",
      "40455/40455 [==============================] - 4s 103us/sample - loss: 0.6919 - accuracy: 0.5218 - val_loss: 0.6918 - val_accuracy: 0.5207\n",
      "Epoch 24/1000\n",
      "40455/40455 [==============================] - 4s 104us/sample - loss: 0.6912 - accuracy: 0.5240 - val_loss: 0.6916 - val_accuracy: 0.5185\n",
      "Epoch 25/1000\n",
      "40455/40455 [==============================] - 4s 107us/sample - loss: 0.6908 - accuracy: 0.5232 - val_loss: 0.6918 - val_accuracy: 0.5248\n",
      "Epoch 26/1000\n",
      "40455/40455 [==============================] - 4s 105us/sample - loss: 0.6905 - accuracy: 0.5285 - val_loss: 0.6918 - val_accuracy: 0.5180\n",
      "Epoch 27/1000\n",
      "40455/40455 [==============================] - 4s 103us/sample - loss: 0.6905 - accuracy: 0.5250 - val_loss: 0.6915 - val_accuracy: 0.5245\n",
      "Epoch 28/1000\n",
      "40455/40455 [==============================] - 4s 104us/sample - loss: 0.6898 - accuracy: 0.5310 - val_loss: 0.6922 - val_accuracy: 0.5152\n",
      "Epoch 29/1000\n",
      "40455/40455 [==============================] - 4s 102us/sample - loss: 0.6895 - accuracy: 0.5324 - val_loss: 0.6968 - val_accuracy: 0.5069\n",
      "Epoch 30/1000\n",
      "40455/40455 [==============================] - 4s 105us/sample - loss: 0.6902 - accuracy: 0.5288 - val_loss: 0.6920 - val_accuracy: 0.5210\n",
      "Epoch 31/1000\n",
      "40455/40455 [==============================] - 4s 103us/sample - loss: 0.6897 - accuracy: 0.5290 - val_loss: 0.6919 - val_accuracy: 0.5271\n",
      "Epoch 32/1000\n",
      "40455/40455 [==============================] - 4s 104us/sample - loss: 0.6881 - accuracy: 0.5363 - val_loss: 0.6939 - val_accuracy: 0.5129\n",
      "Epoch 33/1000\n",
      "40455/40455 [==============================] - 4s 103us/sample - loss: 0.6879 - accuracy: 0.5386 - val_loss: 0.6923 - val_accuracy: 0.5228\n",
      "Epoch 34/1000\n",
      "40455/40455 [==============================] - 4s 103us/sample - loss: 0.6879 - accuracy: 0.5346 - val_loss: 0.6954 - val_accuracy: 0.5114\n",
      "Epoch 35/1000\n",
      "40455/40455 [==============================] - 4s 102us/sample - loss: 0.6856 - accuracy: 0.5444 - val_loss: 0.6943 - val_accuracy: 0.5202\n",
      "Epoch 36/1000\n",
      "40455/40455 [==============================] - 4s 103us/sample - loss: 0.6851 - accuracy: 0.5460 - val_loss: 0.6936 - val_accuracy: 0.5165\n",
      "Epoch 37/1000\n",
      "40455/40455 [==============================] - 4s 104us/sample - loss: 0.6824 - accuracy: 0.5540 - val_loss: 0.6965 - val_accuracy: 0.5149\n",
      "Training with significance = 0.32, run 2\n",
      "Train on 40455 samples, validate on 10114 samples\n",
      "Epoch 1/1000\n",
      "40455/40455 [==============================] - 5s 131us/sample - loss: 0.7197 - accuracy: 0.5108 - val_loss: 0.7041 - val_accuracy: 0.5158\n",
      "Epoch 2/1000\n",
      "40455/40455 [==============================] - 3s 74us/sample - loss: 0.6990 - accuracy: 0.5134 - val_loss: 0.6935 - val_accuracy: 0.5142\n",
      "Epoch 3/1000\n",
      "40455/40455 [==============================] - 4s 101us/sample - loss: 0.6939 - accuracy: 0.5121 - val_loss: 0.6935 - val_accuracy: 0.5088\n",
      "Epoch 4/1000\n",
      "40455/40455 [==============================] - 4s 104us/sample - loss: 0.6938 - accuracy: 0.5140 - val_loss: 0.6945 - val_accuracy: 0.5088\n",
      "Epoch 5/1000\n",
      "40455/40455 [==============================] - 4s 103us/sample - loss: 0.6934 - accuracy: 0.5110 - val_loss: 0.6923 - val_accuracy: 0.5138\n",
      "Epoch 6/1000\n",
      "40455/40455 [==============================] - 4s 103us/sample - loss: 0.6927 - accuracy: 0.5158 - val_loss: 0.6929 - val_accuracy: 0.5170\n",
      "Epoch 7/1000\n",
      "40455/40455 [==============================] - 4s 105us/sample - loss: 0.6931 - accuracy: 0.5119 - val_loss: 0.6912 - val_accuracy: 0.5195\n",
      "Epoch 8/1000\n",
      "40455/40455 [==============================] - 4s 105us/sample - loss: 0.6926 - accuracy: 0.5161 - val_loss: 0.6961 - val_accuracy: 0.5056\n",
      "Epoch 9/1000\n",
      "40455/40455 [==============================] - 4s 106us/sample - loss: 0.6930 - accuracy: 0.5150 - val_loss: 0.6916 - val_accuracy: 0.5255\n",
      "Epoch 10/1000\n",
      "40455/40455 [==============================] - 4s 104us/sample - loss: 0.6930 - accuracy: 0.5146 - val_loss: 0.6958 - val_accuracy: 0.5014\n",
      "Epoch 11/1000\n",
      "40455/40455 [==============================] - 4s 104us/sample - loss: 0.6923 - accuracy: 0.5176 - val_loss: 0.6919 - val_accuracy: 0.5159\n",
      "Epoch 12/1000\n",
      "40455/40455 [==============================] - 4s 104us/sample - loss: 0.6926 - accuracy: 0.5143 - val_loss: 0.6918 - val_accuracy: 0.5193\n",
      "Epoch 13/1000\n",
      "40455/40455 [==============================] - 4s 103us/sample - loss: 0.6922 - accuracy: 0.5168 - val_loss: 0.6927 - val_accuracy: 0.5154\n",
      "Epoch 14/1000\n",
      "40455/40455 [==============================] - 4s 103us/sample - loss: 0.6920 - accuracy: 0.5188 - val_loss: 0.6918 - val_accuracy: 0.5192\n",
      "Epoch 15/1000\n",
      "40455/40455 [==============================] - 4s 106us/sample - loss: 0.6922 - accuracy: 0.5191 - val_loss: 0.6921 - val_accuracy: 0.5131\n",
      "Epoch 16/1000\n",
      "40455/40455 [==============================] - 4s 104us/sample - loss: 0.6919 - accuracy: 0.5201 - val_loss: 0.6929 - val_accuracy: 0.5081\n",
      "Epoch 17/1000\n",
      "40455/40455 [==============================] - 4s 103us/sample - loss: 0.6925 - accuracy: 0.5186 - val_loss: 0.6916 - val_accuracy: 0.5201\n",
      "Epoch 18/1000\n",
      "40455/40455 [==============================] - 4s 103us/sample - loss: 0.6920 - accuracy: 0.5198 - val_loss: 0.6913 - val_accuracy: 0.5235\n",
      "Epoch 19/1000\n",
      "40455/40455 [==============================] - 4s 105us/sample - loss: 0.6919 - accuracy: 0.5192 - val_loss: 0.6919 - val_accuracy: 0.5204\n",
      "Epoch 20/1000\n",
      "40455/40455 [==============================] - 4s 106us/sample - loss: 0.6916 - accuracy: 0.5217 - val_loss: 0.6919 - val_accuracy: 0.5230\n",
      "Epoch 21/1000\n",
      "40455/40455 [==============================] - 4s 104us/sample - loss: 0.6916 - accuracy: 0.5210 - val_loss: 0.6936 - val_accuracy: 0.5086\n",
      "Epoch 22/1000\n",
      " 3500/40455 [=>............................] - ETA: 3s - loss: 0.6914 - accuracy: 0.5260"
     ]
    }
   ],
   "source": [
    "n_train_sr_bkg = 25000\n",
    "rng = np.random.default_rng(seed=42)\n",
    "mean_results = []\n",
    "std_results = []\n",
    "for p_1 in [25]:\n",
    "    bkg_sr_jet_1 = np.load(f'background_images_sr_{p_1}_jet_1.npy')\n",
    "    bkg_sr_jet_2 = np.load(f'background_images_sr_{p_1}_jet_2.npy')\n",
    "    \n",
    "    bkg_sb_jet_1 = np.load(f'background_images_sb_{p_1}_jet_1.npy')\n",
    "    bkg_sb_jet_2 = np.load(f'background_images_sb_{p_1}_jet_2.npy')\n",
    "    \n",
    "    sb_sr_bkg = np.shape(bkg_sb_jet_1)[0]/np.shape(bkg_sr_jet_2)[0]\n",
    "    n_train_sb_bkg = int(np.round(n_train_sr_bkg*sb_sr_bkg))\n",
    "    n_test_sr_bkg = 20000\n",
    "    #First jet, background, SR\n",
    "    bkg_train_sr_1 = bkg_sr_jet_1[0:n_train_sr_bkg]\n",
    "    #Second jet, background, SR\n",
    "    bkg_train_sr_2 = bkg_sr_jet_2[0:n_train_sr_bkg]\n",
    "    #First jet, background, SB\n",
    "    bkg_train_sb_1 = bkg_sb_jet_1[0:n_train_sb_bkg]\n",
    "    #Second jet, background, SB\n",
    "    bkg_train_sb_2 = bkg_sb_jet_2[0:n_train_sb_bkg]\n",
    "    \n",
    "    signal_sr_jet_1 = np.load(f'id10_sr_{p_1}_jet_1.npy')\n",
    "    signal_sr_jet_2 = np.load(f'id10_sr_{p_1}_jet_2.npy')\n",
    "    \n",
    "    signal_sb_jet_1 = np.load(f'id10_sb_{p_1}_jet_1.npy')\n",
    "    signal_sb_jet_2 = np.load(f'id10_sb_{p_1}_jet_2.npy')\n",
    "    \n",
    "    sb_sr_signal = np.shape(signal_sb_jet_1)[0]/np.shape(signal_sr_jet_1)[0]\n",
    "    for n_train_sr_signal in [50, 100, 150, 200, 250, 300, 350, 400, 450, 500, 600, 700, 800, 900, 1000, 1100, 1200]:\n",
    "        significance = np.sqrt(2*((n_train_sr_signal+25000)*np.log(n_train_sr_signal/25000 + 1) - n_train_sr_signal))\n",
    "        \n",
    "        n_train_sb_signal = int(np.round(n_train_sr_signal*sb_sr_signal))\n",
    "        n_test_sr_signal = 20000\n",
    "        \n",
    "        #First jet, signal, SR\n",
    "        signal_train_sr_1 = signal_sr_jet_1[0:n_train_sr_signal]\n",
    "        \n",
    "        #Second jet, signal, SR\n",
    "        signal_train_sr_2 = signal_sr_jet_2[0:n_train_sr_signal]\n",
    "\n",
    "        #First jet, signal, SB\n",
    "        signal_train_sb_1 = signal_sb_jet_1[0:n_train_sb_signal]\n",
    "\n",
    "        #Second jet, signal, SB\n",
    "        signal_train_sb_2 = signal_sb_jet_2[0:n_train_sb_signal]\n",
    "        \n",
    "        train_sr_1 = np.concatenate((signal_train_sr_1, bkg_train_sr_1))\n",
    "        train_sr_2 = np.concatenate((signal_train_sr_2, bkg_train_sr_2))\n",
    "\n",
    "        train_label_sr = np.ones(np.shape(train_sr_1)[0], dtype = int)\n",
    "        \n",
    "        train_sb_1 = np.concatenate((signal_train_sb_1, bkg_train_sb_1))\n",
    "        train_sb_2 = np.concatenate((signal_train_sb_2, bkg_train_sb_2))\n",
    "\n",
    "        train_label_sb = np.zeros(np.shape(train_sb_1)[0], dtype = int)\n",
    "        \n",
    "        x_train_1 = np.concatenate((train_sr_1, train_sb_1))\n",
    "        x_train_2 = np.concatenate((train_sr_2, train_sb_2))\n",
    "        y_train = np.concatenate((train_label_sr, train_label_sb))\n",
    "        \n",
    "        indices = rng.permutation(np.shape(y_train)[0])\n",
    "        \n",
    "        x_train_1 = x_train_1[indices]\n",
    "        x_train_2 = x_train_2[indices]\n",
    "        y_train = y_train[indices]\n",
    "        \n",
    "        x_train_1 = x_train_1.reshape((np.shape(x_train_1)[0], p_1, p_1, 1))\n",
    "        x_train_2 = x_train_2.reshape((np.shape(x_train_2)[0], p_1, p_1, 1))\n",
    "    \n",
    "        epsilon_results = []\n",
    "        for i in range(10):\n",
    "            print(f'Training with significance = {significance:.2f}, run {i}')\n",
    "            cwola = CWoLA(p_1)\n",
    "            loss_object = keras.losses.BinaryCrossentropy()\n",
    "            optimizer = keras.optimizers.Adam(learning_rate = 1e-4)\n",
    "            cwola.compile(loss = loss_object, optimizer = optimizer, metrics = ['accuracy'])\n",
    "            early_stopping = keras.callbacks.EarlyStopping(monitor = 'val_loss', patience=30, restore_best_weights=True)\n",
    "            cwola.fit({'jet_1': x_train_1, 'jet_2': x_train_2}, y_train, validation_split = 0.2,\n",
    "              shuffle = True, batch_size = 500, callbacks = [early_stopping], epochs = 1000)  \n",
    "            cwola.save(f'/home/manhducnmd/pp_dijet/Model_results/run_{i}_id10_{n_train_sr_signal}_{p_1}.keras')\n",
    "    "
   ]
  },
  {
   "cell_type": "code",
   "execution_count": 74,
   "id": "b45b7043",
   "metadata": {
    "scrolled": false
   },
   "outputs": [
    {
     "name": "stdout",
     "output_type": "stream",
     "text": [
      "Model: \"model_4\"\n",
      "__________________________________________________________________________________________________\n",
      "Layer (type)                    Output Shape         Param #     Connected to                     \n",
      "==================================================================================================\n",
      "jet_1 (InputLayer)              [(None, 25, 25, 1)]  0                                            \n",
      "__________________________________________________________________________________________________\n",
      "jet_2 (InputLayer)              [(None, 25, 25, 1)]  0                                            \n",
      "__________________________________________________________________________________________________\n",
      "batch_normalization_8 (BatchNor (None, 25, 25, 1)    4           jet_1[0][0]                      \n",
      "__________________________________________________________________________________________________\n",
      "batch_normalization_9 (BatchNor (None, 25, 25, 1)    4           jet_2[0][0]                      \n",
      "__________________________________________________________________________________________________\n",
      "sequential_8 (Sequential)       (None, 1152)         325568      batch_normalization_8[0][0]      \n",
      "                                                                 batch_normalization_9[0][0]      \n",
      "__________________________________________________________________________________________________\n",
      "sequential_9 (Sequential)       (None, 1)            180737      sequential_8[0][0]               \n",
      "                                                                 sequential_8[1][0]               \n",
      "__________________________________________________________________________________________________\n",
      "multiply_4 (Multiply)           (None, 1)            0           sequential_9[0][0]               \n",
      "                                                                 sequential_9[1][0]               \n",
      "==================================================================================================\n",
      "Total params: 506,313\n",
      "Trainable params: 506,309\n",
      "Non-trainable params: 4\n",
      "__________________________________________________________________________________________________\n"
     ]
    }
   ],
   "source": [
    "cwola.summary()"
   ]
  },
  {
   "cell_type": "code",
   "execution_count": 32,
   "id": "03e172c2",
   "metadata": {},
   "outputs": [],
   "source": [
    "os.chdir('/home/manhducnmd/pp_dijet/Model_results')"
   ]
  },
  {
   "cell_type": "code",
   "execution_count": 33,
   "id": "f17f9700",
   "metadata": {
    "scrolled": false
   },
   "outputs": [],
   "source": [
    "loaded_model = keras.models.load_model('run_5_id10_500_25.keras')"
   ]
  },
  {
   "cell_type": "code",
   "execution_count": 9,
   "id": "6e7492ed",
   "metadata": {
    "scrolled": true
   },
   "outputs": [
    {
     "data": {
      "image/png": "[encoded data removed]",
      "text/plain": [
       "<IPython.core.display.Image object>"
      ]
     },
     "execution_count": 9,
     "metadata": {},
     "output_type": "execute_result"
    }
   ],
   "source": [
    "keras.utils.plot_model(loaded_model, \"multi_input_and_output_model.png\", show_shapes=True)"
   ]
  },
  {
   "cell_type": "code",
   "execution_count": 10,
   "id": "6d8bd35b",
   "metadata": {
    "scrolled": true
   },
   "outputs": [
    {
     "name": "stdout",
     "output_type": "stream",
     "text": [
      "Model: \"model_95\"\n",
      "__________________________________________________________________________________________________\n",
      "Layer (type)                    Output Shape         Param #     Connected to                     \n",
      "==================================================================================================\n",
      "jet_1 (InputLayer)              [(None, 25, 25, 1)]  0                                            \n",
      "__________________________________________________________________________________________________\n",
      "jet_2 (InputLayer)              [(None, 25, 25, 1)]  0                                            \n",
      "__________________________________________________________________________________________________\n",
      "batch_normalization_190 (BatchN (None, 25, 25, 1)    4           jet_1[0][0]                      \n",
      "__________________________________________________________________________________________________\n",
      "batch_normalization_191 (BatchN (None, 25, 25, 1)    4           jet_2[0][0]                      \n",
      "__________________________________________________________________________________________________\n",
      "sequential_190 (Sequential)     (None, 1152)         325568      batch_normalization_190[0][0]    \n",
      "                                                                 batch_normalization_191[0][0]    \n",
      "__________________________________________________________________________________________________\n",
      "sequential_191 (Sequential)     (None, 1)            180737      sequential_190[0][0]             \n",
      "                                                                 sequential_190[1][0]             \n",
      "__________________________________________________________________________________________________\n",
      "multiply_95 (Multiply)          (None, 1)            0           sequential_191[0][0]             \n",
      "                                                                 sequential_191[1][0]             \n",
      "==================================================================================================\n",
      "Total params: 506,313\n",
      "Trainable params: 506,309\n",
      "Non-trainable params: 4\n",
      "__________________________________________________________________________________________________\n",
      "None\n"
     ]
    }
   ],
   "source": [
    "print(loaded_model.summary())"
   ]
  },
  {
   "cell_type": "code",
   "execution_count": 37,
   "id": "ad760b83",
   "metadata": {},
   "outputs": [],
   "source": [
    "os.chdir(r'/home/manhducnmd/pp_dijet/Results_full')"
   ]
  },
  {
   "cell_type": "code",
   "execution_count": 38,
   "id": "70311bd4",
   "metadata": {},
   "outputs": [],
   "source": [
    "bkg_sr_jet_1 = np.load('background_images_sr_25_jet_1.npy')\n",
    "bkg_sr_jet_2 = np.load('background_images_sr_25_jet_2.npy')\n",
    "\n",
    "signal_sr_jet_1 = np.load('id10_sr_25_jet_1.npy')\n",
    "signal_sr_jet_2 = np.load('id10_sr_25_jet_2.npy')\n",
    "\n"
   ]
  },
  {
   "cell_type": "code",
   "execution_count": 39,
   "id": "aa534084",
   "metadata": {},
   "outputs": [],
   "source": [
    "signal_test_1 = signal_sr_jet_1[-20000:]\n",
    "signal_test_2 = signal_sr_jet_2[-20000:]\n",
    "\n",
    "bkg_test_1 = bkg_sr_jet_1[-20000:]\n",
    "bkg_test_2 = bkg_sr_jet_2[-20000:]\n",
    "\n",
    "\n",
    "test_label_signal = np.ones(np.shape(signal_test_1)[0])\n",
    "test_label_bkg = np.zeros(np.shape(bkg_test_1)[0])\n",
    "\n",
    "x_test_1 = np.concatenate((signal_test_1, bkg_test_1))\n",
    "x_test_2 = np.concatenate((signal_test_2, bkg_test_2))\n",
    "y_test = np.concatenate((test_label_signal, test_label_bkg))\n",
    "\n",
    "x_test_1 = x_test_1.reshape((np.shape(x_test_1)[0],25,25,1))\n",
    "x_test_2 = x_test_2.reshape((np.shape(x_test_2)[0],25,25,1))\n"
   ]
  },
  {
   "cell_type": "code",
   "execution_count": 40,
   "id": "505b3c01",
   "metadata": {},
   "outputs": [],
   "source": [
    "x_predict = loaded_model.predict([x_test_1, x_test_2])\n"
   ]
  },
  {
   "cell_type": "code",
   "execution_count": 41,
   "id": "71be1beb",
   "metadata": {},
   "outputs": [],
   "source": [
    "x_predict_0 = x_predict[y_test == 0]\n",
    "x_predict_1 = x_predict[y_test == 1]\n"
   ]
  },
  {
   "cell_type": "code",
   "execution_count": 42,
   "id": "7eded930",
   "metadata": {
    "scrolled": false
   },
   "outputs": [
    {
     "data": {
      "image/png": "[encoded data removed]",
      "text/plain": [
       "<Figure size 640x480 with 1 Axes>"
      ]
     },
     "metadata": {},
     "output_type": "display_data"
    }
   ],
   "source": [
    "plt.hist(x_predict_0)\n",
    "plt.hist(x_predict_1)\n",
    "plt.show()"
   ]
  },
  {
   "cell_type": "code",
   "execution_count": 46,
   "id": "89217299",
   "metadata": {
    "scrolled": true
   },
   "outputs": [
    {
     "data": {
      "image/png": "[encoded data removed]",
      "text/plain": [
       "<Figure size 640x480 with 1 Axes>"
      ]
     },
     "metadata": {},
     "output_type": "display_data"
    },
    {
     "name": "stdout",
     "output_type": "stream",
     "text": [
      "0.57545957\n"
     ]
    }
   ],
   "source": [
    "fpr, tpr, th = roc_curve(y_test, x_predict)\n",
    "plt.plot(fpr, tpr)\n",
    "plt.show()\n",
    "f = interpolate.interp1d(fpr, tpr)\n",
    "epsilon_s = f([0.001, 0.01, 0.1])\n",
    "print(roc_auc_score(y_test, x_predict))"
   ]
  },
  {
   "cell_type": "code",
   "execution_count": 47,
   "id": "d62bc666",
   "metadata": {},
   "outputs": [
    {
     "name": "stdout",
     "output_type": "stream",
     "text": [
      "[0.0002875 0.0114    0.17335  ]\n"
     ]
    }
   ],
   "source": [
    "print(epsilon_s)"
   ]
  },
  {
   "cell_type": "code",
   "execution_count": 44,
   "id": "cd025054",
   "metadata": {},
   "outputs": [],
   "source": [
    "n_train_sr_signal = 500"
   ]
  },
  {
   "cell_type": "code",
   "execution_count": 45,
   "id": "5c699ebd",
   "metadata": {},
   "outputs": [
    {
     "name": "stdout",
     "output_type": "stream",
     "text": [
      "1.7236252433607797\n"
     ]
    }
   ],
   "source": [
    "print(np.sqrt(2*((n_train_sr_signal*epsilon_s[2]+25000*0.1)*np.log(n_train_sr_signal*epsilon_s[2]/(25000*0.1) + 1) - \n",
    "                 n_train_sr_signal*epsilon_s[2])))\n"
   ]
  },
  {
   "cell_type": "code",
   "execution_count": null,
   "id": "5d361a93",
   "metadata": {},
   "outputs": [],
   "source": []
  }
 ],
 "metadata": {
  "kernelspec": {
   "display_name": "Python 3 (ipykernel)",
   "language": "python",
   "name": "python3"
  },
  "language_info": {
   "codemirror_mode": {
    "name": "ipython",
    "version": 3
   },
   "file_extension": ".py",
   "mimetype": "text/x-python",
   "name": "python",
   "nbconvert_exporter": "python",
   "pygments_lexer": "ipython3",
   "version": "3.7.7"
  }
 },
 "nbformat": 4,
 "nbformat_minor": 5
}
