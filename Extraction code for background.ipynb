{
 "cells": [
  {
   "cell_type": "code",
   "execution_count": 1,
   "id": "bdf4b413",
   "metadata": {},
   "outputs": [],
   "source": [
    "import os\n",
    "os.getcwd()\n",
    "os.chdir(r'/home/manhducnmd/Delphes-3.5.0')"
   ]
  },
  {
   "cell_type": "code",
   "execution_count": 4,
   "id": "900ec259",
   "metadata": {},
   "outputs": [],
   "source": [
    "os.environ[\"PATH\"]='/home/manhducnmd/latex/bin/x86_64-linux'\n",
    "# Enable LaTeX rendering\n",
    "plt.rcParams['text.usetex'] = True\n",
    "plt.rcParams['font.family'] = 'serif'\n",
    "#plt.rcParams['font.family'] = 'sans-serif'"
   ]
  },
  {
   "cell_type": "code",
   "execution_count": 3,
   "id": "f13bb635",
   "metadata": {},
   "outputs": [],
   "source": [
    "import numpy as np\n",
    "from matplotlib import pyplot as plt\n",
    "import matplotlib.colors as mcolors\n",
    "from matplotlib.font_manager import FontProperties\n",
    "import pickle"
   ]
  },
  {
   "cell_type": "code",
   "execution_count": 5,
   "id": "fb53f5c5",
   "metadata": {},
   "outputs": [
    {
     "name": "stderr",
     "output_type": "stream",
     "text": [
      "sh: 1: sed: not found\n",
      "sh: 1: ldd: not found\n"
     ]
    },
    {
     "name": "stdout",
     "output_type": "stream",
     "text": [
      "Welcome to JupyROOT 6.20/08\n"
     ]
    },
    {
     "data": {
      "text/plain": [
       "0"
      ]
     },
     "execution_count": 5,
     "metadata": {},
     "output_type": "execute_result"
    }
   ],
   "source": [
    "import ROOT\n",
    "ROOT.gSystem.Load(\"libDelphes\")"
   ]
  },
  {
   "cell_type": "code",
   "execution_count": 6,
   "id": "7afd2236",
   "metadata": {},
   "outputs": [],
   "source": [
    "try:\n",
    "    ROOT.gInterpreter.Declare('#include \"classes/DelphesClasses.h\"')\n",
    "    ROOT.gInterpreter.Declare('#include \"external/ExRootAnalysis/ExRootTreeReader.h\"')\n",
    "except:\n",
    "    pass"
   ]
  },
  {
   "cell_type": "code",
   "execution_count": null,
   "id": "b442f21a",
   "metadata": {},
   "outputs": [
    {
     "name": "stdout",
     "output_type": "stream",
     "text": [
      "100000\n",
      "100000\n",
      "100000\n",
      "100000\n",
      "100000\n",
      "100000\n",
      "100000\n",
      "100000\n",
      "100000\n",
      "100000\n",
      "100000\n",
      "100000\n",
      "100000\n",
      "100000\n",
      "100000\n",
      "100000\n",
      "100000\n",
      "100000\n",
      "100000\n",
      "100000\n",
      "100000\n",
      "100000\n",
      "100000\n",
      "100000\n",
      "100000\n",
      "100000\n",
      "100000\n",
      "100000\n",
      "100000\n",
      "100000\n",
      "100000\n",
      "100000\n",
      "100000\n",
      "100000\n",
      "100000\n",
      "100000\n",
      "100000\n",
      "100000\n",
      "100000\n",
      "100000\n",
      "100000\n",
      "100000\n",
      "100000\n",
      "100000\n",
      "100000\n",
      "100000\n",
      "100000\n",
      "100000\n",
      "100000\n",
      "100000\n",
      "100000\n",
      "100000\n",
      "100000\n",
      "100000\n",
      "100000\n",
      "100000\n",
      "100000\n",
      "100000\n",
      "100000\n",
      "100000\n",
      "100000\n",
      "100000\n",
      "100000\n",
      "100000\n",
      "100000\n",
      "0\n",
      "100000\n",
      "100000\n",
      "100000\n"
     ]
    }
   ],
   "source": [
    "Pt_background = []\n",
    "\n",
    "P4_1_background = []\n",
    "P4_2_background = []\n",
    "\n",
    "Mjj_background = []\n",
    "eta_1_background = []\n",
    "eta_2_background = []\n",
    "\n",
    "phi_1_background = []\n",
    "phi_2_background = []\n",
    "\n",
    "final_background_eta = []\n",
    "final_background_phi = []\n",
    "final_background_Pt = []\n",
    "\n",
    "final_background_eta_2 = []\n",
    "final_background_phi_2 = []\n",
    "final_background_Pt_2 = []\n",
    "for number in [11]:\n",
    "    for k in range(30, 99):\n",
    "        #if k < 3:\n",
    "            #inputFile= f'/home/manhducnmd/pp_dijet/Events/run_06_{k}/tag_2_delphes_events.root'\n",
    "        #else:\n",
    "        inputFile= f'/home/manhducnmd/pp_dijet/Events/run_{number}_{k}/tag_1_delphes_events.root'\n",
    "        chain = ROOT.TChain(\"Delphes\")\n",
    "        chain.Add(inputFile)\n",
    "\n",
    "        # Create object of class ExRootTreeReader\n",
    "        treeReader = ROOT.ExRootTreeReader(chain)\n",
    "        numberOfEntries = treeReader.GetEntries()\n",
    "        print(numberOfEntries)\n",
    "        # Get pointers to branches used in this analysis\n",
    "        branchJet = treeReader.UseBranch(\"Jet\")\n",
    "        branchEFlowTrack = treeReader.UseBranch(\"EFlowTrack\")\n",
    "        branchEFlowPhoton = treeReader.UseBranch(\"EFlowPhoton\")\n",
    "        branchEFlowNeutralHadron = treeReader.UseBranch(\"EFlowNeutralHadron\")\n",
    "\n",
    "\n",
    "        for i in range(0, numberOfEntries): \n",
    "            treeReader.ReadEntry(i)\n",
    "\n",
    "            if branchJet.GetEntries() >= 2:\n",
    "                jet1 = branchJet.At(0)   # The first leading jet\n",
    "                jet2 = branchJet.At(1)   # The second leading jet\n",
    "                jetvec1= jet1.P4() \n",
    "                jetvec2= jet2.P4() \n",
    "                jet_total = jetvec1 + jetvec2\n",
    "                if jetvec1.Pt() > 750 and jetvec2.Pt() > 750:\n",
    "                    if np.abs(jetvec1.Eta()) < 2 and np.abs(jetvec2.Eta()) < 2:\n",
    "                        Pt_background.append(jetvec1.Pt()) \n",
    "\n",
    "                        P4_1_background.append(jetvec1)\n",
    "                        P4_2_background.append(jetvec2)\n",
    "\n",
    "                        Mjj_background.append(jet_total.M())\n",
    "\n",
    "                        eta_1_background.append(jetvec1.Eta())\n",
    "                        eta_2_background.append(jetvec2.Eta())\n",
    "\n",
    "                        phi_1_background.append(jetvec1.Phi())\n",
    "                        phi_2_background.append(jetvec2.Phi())\n",
    "\n",
    "                        constituent_background_eta = []\n",
    "                        constituent_background_phi = []\n",
    "                        constituent_background_Pt = []\n",
    "\n",
    "                        constituent_background_eta_2 = []\n",
    "                        constituent_background_phi_2 = []\n",
    "                        constituent_background_Pt_2 = []\n",
    "                        for constituent in jet1.Constituents: \n",
    "                            constituent_background_eta.append(constituent.P4().Eta())\n",
    "                            constituent_background_phi.append(constituent.P4().Phi())\n",
    "                            constituent_background_Pt.append(constituent.P4().Pt())\n",
    "                        for constituent_2 in jet2.Constituents:\n",
    "                            constituent_background_eta_2.append(constituent_2.P4().Eta())\n",
    "                            constituent_background_phi_2.append(constituent_2.P4().Phi())\n",
    "                            constituent_background_Pt_2.append(constituent_2.P4().Pt())\n",
    "\n",
    "                        final_background_eta.append(constituent_background_eta)\n",
    "                        final_background_phi.append(constituent_background_phi)\n",
    "                        final_background_Pt.append(constituent_background_Pt)\n",
    "\n",
    "                        final_background_eta_2.append(constituent_background_eta_2)\n",
    "                        final_background_phi_2.append(constituent_background_phi_2)\n",
    "                        final_background_Pt_2.append(constituent_background_Pt_2)\n",
    "\n",
    "        chain.Reset()\n",
    "Pt_background = np.array(Pt_background)\n",
    "\n",
    "P4_1_background = np.array(P4_1_background)\n",
    "P4_2_background = np.array(P4_2_background)\n",
    "\n",
    "Mjj_background = np.array(Mjj_background)\n",
    "\n",
    "eta_1_background = np.array(eta_1_background)\n",
    "eta_2_background = np.array(eta_2_background)\n",
    "\n",
    "phi_1_background = np.array(phi_1_background)\n",
    "phi_2_background = np.array(phi_2_background)\n",
    "\n",
    "for p_i in [25, 50, 75]:\n",
    "    all_images_background_sr = []\n",
    "    all_images_background_sb = []\n",
    "\n",
    "    all_images_background_sr_2 = []\n",
    "    all_images_background_sb_2 = []\n",
    "    # Grid settings\n",
    "    xpixels = np.arange(-1, 1, 2/(p_i+1))\n",
    "    ypixels = np.arange(-1, 1, 2/(p_i+1))\n",
    "    # function to return the image momenta for centroid and principal axis\n",
    "    def img_mom (x, y, weights, x_power, y_power):\n",
    "        return ((x**x_power)*(y**y_power)*weights).sum()\n",
    "\n",
    "    # returns the jet image\n",
    "    def orig_image (etas, phis, weights):\n",
    "        \"\"\"\n",
    "        Gives the value on grid with minimal distance,\n",
    "        eg. for xpixel = (0,1,2,3,..) eta=1.3 -> xpixel=1, eta=1.6 ->xpixel=2\n",
    "        \"\"\"\n",
    "        z, x_edges, y_edges = np.histogram2d(etas, phis, bins = [xpixels, ypixels], weights = weights)\n",
    "        return z\n",
    "\n",
    "    # preprocess the jet\n",
    "    def preprocessing(x ,y, jet_eta, jet_phi, weights, rotate=True, flip=True):\n",
    "        \"\"\"\n",
    "        (x,y) are the coordinates and weights the corresponding values, shifts\n",
    "        centroid to origin, rotates image, so that principal axis is vertical,\n",
    "        flips image, so that most weights lay in plane.\n",
    "        Method for calculating principal axis (similar to tensor of inertia):\n",
    "        https://en.wikipedia.org/wiki/Image_moment\n",
    "        here: y=phi, phi has modulo 2*np.pi but it's not been taken care of hear,\n",
    "        so possible issues with calculating the centroid\n",
    "        -> pre-shifting of events outside of this function solves the problem\n",
    "        for iamge-data with Delta_phi < 2*np.pi\n",
    "        \"\"\"\n",
    "\n",
    "        # Shift\n",
    "        x_centroid = jet_eta\n",
    "        y_centroid = jet_phi\n",
    "        x = x - x_centroid\n",
    "        y = y - y_centroid\n",
    "\n",
    "        y[y < -np.pi] += 2*np.pi\n",
    "        y[y > np.pi] -= 2*np.pi\n",
    "        if rotate:\n",
    "            #Ccovariant matrix, eigenvectors corr. to principal axis\n",
    "            u11 = img_mom(x, y, weights, 1, 1) / weights.sum()\n",
    "            u20 = img_mom(x, y, weights, 2, 0) / weights.sum()\n",
    "            u02 = img_mom(x, y, weights, 0, 2) / weights.sum()\n",
    "            cov = np.array([[u20, u11], [u11, u02]])\n",
    "\n",
    "            # Eigenvalues and eigenvectors of covariant matrix\n",
    "            evals, evecs = np.linalg.eig(cov)\n",
    "\n",
    "            # Sorts the eigenvalues, v1, [::-1] turns array around, \n",
    "            sort_indices = np.argsort(evals)[::-1]\n",
    "            e_1 = evecs[:, sort_indices[0]]  # Eigenvector with largest eigenvalue\n",
    "            e_2 = evecs[:, sort_indices[1]]\n",
    "\n",
    "            # Theta to x_axis, arctan2 gives correct angle\n",
    "            theta = np.arctan2(e_1[0], e_1[1])\n",
    "\n",
    "            # Rotation, so that princple axis is vertical\n",
    "            # anti-clockwise rotation matrix\n",
    "            rotation = np.matrix([[np.cos(theta), -np.sin(theta)], [np.sin(theta), np.cos(theta)]])\n",
    "            transformed_mat = rotation * np.stack([x,y])\n",
    "            x_rot, y_rot = transformed_mat.A\n",
    "        else: \n",
    "            x_rot, y_rot = x, y\n",
    "\n",
    "        n_flips = 0\n",
    "\n",
    "        # Flipping\n",
    "        if flip:\n",
    "            if x_rot[np.argmax(weights)] < 0.:\n",
    "                x_rot = -x_rot\n",
    "                n_flips  += 1\n",
    "            if y_rot[np.argmax(weights)] < 0.:\n",
    "                y_rot = -y_rot\n",
    "                n_flips += 1\n",
    "\n",
    "        return x_rot, y_rot\n",
    "\n",
    "\n",
    "    # function to convert the jet to an image\n",
    "    def constit_to_img(etas, phis, jet_eta, jet_phi, pT, rotate, flip):\n",
    "        \n",
    "        weights = pT\n",
    "\n",
    "        etas, phis = preprocessing(etas, phis, jet_eta, jet_phi, weights, rotate, flip)\n",
    "\n",
    "        z_ori = orig_image(etas, phis, weights)\n",
    "\n",
    "        return z_ori\n",
    "\n",
    "\n",
    "    for idx, xd in enumerate(final_background_eta):\n",
    "        etas = np.array(final_background_eta[idx])\n",
    "        phis = np.array(final_background_phi[idx])\n",
    "        Pts = np.array(final_background_Pt[idx])\n",
    "\n",
    "        etas_2 = np.array(final_background_eta_2[idx])\n",
    "        phis_2 = np.array(final_background_phi_2[idx])\n",
    "        Pts_2 = np.array(final_background_Pt_2[idx])\n",
    "        if 4700 <= Mjj_background[idx] <= 5500:\n",
    "            all_images_background_sr.append(constit_to_img(etas, phis, eta_1_background[idx], \n",
    "                                                                   phi_1_background[idx], Pts, True, True))\n",
    "            all_images_background_sr_2.append(constit_to_img(etas_2, phis_2, eta_2_background[idx], \n",
    "                                                                     phi_2_background[idx], Pts_2, True, True))\n",
    "        elif  4400 <= Mjj_background[idx] <= 4700 or 5500 <= Mjj_background[idx] <= 5800:\n",
    "            all_images_background_sb.append(constit_to_img(etas, phis, eta_1_background[idx], \n",
    "                                                               phi_1_background[idx], Pts, True, True))\n",
    "            all_images_background_sb_2.append(constit_to_img(etas_2, phis_2, eta_2_background[idx], \n",
    "                                                                     phi_2_background[idx], Pts_2, True, True))\n",
    "    all_images_background_sr = np.array(all_images_background_sr)\n",
    "    all_images_background_sb = np.array(all_images_background_sb)\n",
    "\n",
    "    all_images_background_sr_2 = np.array(all_images_background_sr_2)\n",
    "    all_images_background_sb_2 = np.array(all_images_background_sb_2)\n",
    "        \n",
    "    os.chdir(r'/home/manhducnmd/pp_dijet/Results_full')\n",
    "    with open(f'mtl_background_images_sr_{p_i}_jet_1.npy','wb') as f:\n",
    "        np.save(f, all_images_background_sr)\n",
    "    with open(f'mtl_background_images_sb_{p_i}_jet_1.npy', 'wb') as g:\n",
    "        np.save(g, all_images_background_sb)\n",
    "    with open(f'mtl_background_images_sr_{p_i}_jet_2.npy','wb') as fle:\n",
    "        np.save(fle, all_images_background_sr_2)\n",
    "    with open(f'mtl_background_images_sb_{p_i}_jet_2.npy', 'wb') as gle:\n",
    "        np.save(gle, all_images_background_sb_2)"
   ]
  },
  {
   "cell_type": "code",
   "execution_count": 27,
   "id": "c73b304c",
   "metadata": {},
   "outputs": [
    {
     "data": {
      "image/png": "[encoded data removed]",
      "text/plain": [
       "<Figure size 640x480 with 1 Axes>"
      ]
     },
     "metadata": {},
     "output_type": "display_data"
    }
   ],
   "source": [
    "plt.hist(Mjj_background, bins = 'auto', density = True)\n",
    "plt.axvline(x = 4400, ls = '--', c = 'r')\n",
    "plt.axvline(x = 4700, ls = '--', c = 'r')\n",
    "plt.axvline(x = 5500, ls = '--', c = 'r')\n",
    "plt.axvline(x = 5800, ls = '--', c = 'r')\n",
    "plt.xlim(4000,6000)\n",
    "plt.ylim(0, 0.0004)\n",
    "plt.show()"
   ]
  },
  {
   "cell_type": "code",
   "execution_count": 28,
   "id": "c49b377a",
   "metadata": {},
   "outputs": [
    {
     "name": "stdout",
     "output_type": "stream",
     "text": [
      "(2003, 75, 75)\n"
     ]
    }
   ],
   "source": [
    "print(np.shape(all_images_background_sr))"
   ]
  },
  {
   "cell_type": "code",
   "execution_count": 29,
   "id": "0829998c",
   "metadata": {},
   "outputs": [
    {
     "name": "stdout",
     "output_type": "stream",
     "text": [
      "75\n"
     ]
    }
   ],
   "source": [
    "print(len(all_images_background_sr[1][1]))"
   ]
  },
  {
   "cell_type": "code",
   "execution_count": 30,
   "id": "9c739ff7",
   "metadata": {},
   "outputs": [
    {
     "data": {
      "image/png": "[encoded data removed]",
      "text/plain": [
       "<Figure size 500x500 with 2 Axes>"
      ]
     },
     "metadata": {},
     "output_type": "display_data"
    }
   ],
   "source": [
    "masked_data = np.ma.masked_equal(np.mean(all_images_background_sr[0:10000], axis = 0), 0.)\n",
    "\n",
    "# Create a colormap based on 'jet'\n",
    "jet = plt.cm.jet\n",
    "\n",
    "# Create a custom colormap with white for masked values\n",
    "colors = jet(np.linspace(0, 1, 256))\n",
    "custom_cmap = mcolors.ListedColormap(colors)\n",
    "# Use a logarithmic norm, avoiding zero values\n",
    "norm = mcolors.LogNorm(vmin=10**-3, vmax=10**3)\n",
    "\n",
    "# Plot using imshow with the custom colormap and logarithmic normalization\n",
    "plt.figure(figsize = (5,5))\n",
    "plt.imshow(masked_data, cmap=custom_cmap, norm=norm, interpolation='nearest')\n",
    "cbar = plt.colorbar()\n",
    "cbar.set_label(\"$P_T$\")\n",
    "plt.xlabel(\"$\\eta$\")\n",
    "plt.ylabel(\"$\\phi$\")\n",
    "#plt.gca().invert_yaxis()\n",
    "plt.show()"
   ]
  },
  {
   "cell_type": "code",
   "execution_count": 8,
   "id": "39d4a835",
   "metadata": {
    "scrolled": true
   },
   "outputs": [
    {
     "name": "stdout",
     "output_type": "stream",
     "text": [
      "60371 62940\n"
     ]
    }
   ],
   "source": [
    "print(len(all_images_background_sr), len(all_images_background_sb))"
   ]
  }
 ],
 "metadata": {
  "kernelspec": {
   "display_name": "Python 3 (ipykernel)",
   "language": "python",
   "name": "python3"
  },
  "language_info": {
   "codemirror_mode": {
    "name": "ipython",
    "version": 3
   },
   "file_extension": ".py",
   "mimetype": "text/x-python",
   "name": "python",
   "nbconvert_exporter": "python",
   "pygments_lexer": "ipython3",
   "version": "3.7.7"
  }
 },
 "nbformat": 4,
 "nbformat_minor": 5
}
