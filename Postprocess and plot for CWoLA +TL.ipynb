{
 "cells": [
  {
   "cell_type": "code",
   "execution_count": 61,
   "id": "4fbff1a2",
   "metadata": {},
   "outputs": [],
   "source": [
    "import os\n",
    "import numpy as np\n",
    "import tensorflow as tf\n",
    "from tensorflow import keras\n",
    "from tensorflow.keras import layers\n",
    "from matplotlib import pyplot as plt\n",
    "from matplotlib import colors as mcolors\n",
    "from sklearn.metrics import roc_curve, roc_auc_score\n",
    "from scipy import interpolate"
   ]
  },
  {
   "cell_type": "code",
   "execution_count": 2,
   "id": "2b026e98",
   "metadata": {
    "scrolled": true
   },
   "outputs": [
    {
     "name": "stderr",
     "output_type": "stream",
     "text": [
      "2024-07-11 09:18:44.919483: I tensorflow/stream_executor/platform/default/dso_loader.cc:44] Successfully opened dynamic library libcuda.so.1\n",
      "2024-07-11 09:18:46.006642: I tensorflow/core/common_runtime/gpu/gpu_device.cc:1618] Found device 0 with properties: \n",
      "name: NVIDIA TITAN Xp major: 6 minor: 1 memoryClockRate(GHz): 1.582\n",
      "pciBusID: 0000:3b:00.0\n",
      "2024-07-11 09:18:46.006845: I tensorflow/stream_executor/platform/default/dso_loader.cc:44] Successfully opened dynamic library libcudart.so.10.0\n",
      "2024-07-11 09:18:46.008109: I tensorflow/stream_executor/platform/default/dso_loader.cc:44] Successfully opened dynamic library libcublas.so.10.0\n",
      "2024-07-11 09:18:46.009177: I tensorflow/stream_executor/platform/default/dso_loader.cc:44] Successfully opened dynamic library libcufft.so.10.0\n",
      "2024-07-11 09:18:46.009444: I tensorflow/stream_executor/platform/default/dso_loader.cc:44] Successfully opened dynamic library libcurand.so.10.0\n",
      "2024-07-11 09:18:46.010839: I tensorflow/stream_executor/platform/default/dso_loader.cc:44] Successfully opened dynamic library libcusolver.so.10.0\n",
      "2024-07-11 09:18:46.011941: I tensorflow/stream_executor/platform/default/dso_loader.cc:44] Successfully opened dynamic library libcusparse.so.10.0\n",
      "2024-07-11 09:18:46.015336: I tensorflow/stream_executor/platform/default/dso_loader.cc:44] Successfully opened dynamic library libcudnn.so.7\n",
      "2024-07-11 09:18:46.015880: I tensorflow/core/common_runtime/gpu/gpu_device.cc:1746] Adding visible gpu devices: 0\n"
     ]
    }
   ],
   "source": [
    "os.environ[\"CUDA_VISIBLE_DEVICES\"] = '0'\n",
    "from tensorflow.python.client import device_lib\n",
    "physical_gpus = tf.config.experimental.list_physical_devices('GPU')\n",
    "tf.config.experimental.set_memory_growth(physical_gpus[0], True)"
   ]
  },
  {
   "cell_type": "code",
   "execution_count": 3,
   "id": "f6fe5d95",
   "metadata": {},
   "outputs": [],
   "source": [
    "os.chdir(r'/home/manhducnmd/pp_dijet/Results_full')"
   ]
  },
  {
   "cell_type": "code",
   "execution_count": 4,
   "id": "069028e7",
   "metadata": {},
   "outputs": [],
   "source": [
    "bkg_sr_jet_1 = np.load('background_images_sr_25_jet_1.npy')\n",
    "bkg_sr_jet_2 = np.load('background_images_sr_25_jet_2.npy')\n",
    "\n",
    "signal_sr_jet_1 = np.load('id10_sr_25_jet_1.npy')\n",
    "signal_sr_jet_2 = np.load('id10_sr_25_jet_2.npy')\n",
    "\n",
    "\n"
   ]
  },
  {
   "cell_type": "code",
   "execution_count": 5,
   "id": "4971eba6",
   "metadata": {},
   "outputs": [
    {
     "name": "stdout",
     "output_type": "stream",
     "text": [
      "(65859, 25, 25) (54576, 25, 25)\n"
     ]
    }
   ],
   "source": [
    "print(np.shape(bkg_sr_jet_1), np.shape(signal_sr_jet_1))"
   ]
  },
  {
   "cell_type": "code",
   "execution_count": 6,
   "id": "79cdc4dd",
   "metadata": {
    "scrolled": true
   },
   "outputs": [],
   "source": [
    "signal_test_1 = signal_sr_jet_1[-20000:]\n",
    "signal_test_2 = signal_sr_jet_2[-20000:]\n",
    "\n",
    "bkg_test_1 = bkg_sr_jet_1[-20000:]\n",
    "bkg_test_2 = bkg_sr_jet_2[-20000:]\n",
    "\n",
    "\n",
    "test_label_signal = np.ones(np.shape(signal_test_1)[0])\n",
    "test_label_bkg = np.zeros(np.shape(bkg_test_1)[0])\n",
    "\n",
    "x_test_1 = np.concatenate((signal_test_1, bkg_test_1))\n",
    "x_test_2 = np.concatenate((signal_test_2, bkg_test_2))\n",
    "y_test = np.concatenate((test_label_signal, test_label_bkg))\n",
    "\n",
    "x_test_1 = x_test_1.reshape((np.shape(x_test_1)[0],25,25,1))\n",
    "x_test_2 = x_test_2.reshape((np.shape(x_test_2)[0],25,25,1))\n"
   ]
  },
  {
   "cell_type": "code",
   "execution_count": 7,
   "id": "e6c13f0b",
   "metadata": {},
   "outputs": [],
   "source": [
    "os.chdir('/home/manhducnmd/pp_dijet/Model_results')"
   ]
  },
  {
   "cell_type": "code",
   "execution_count": 8,
   "id": "be251532",
   "metadata": {
    "scrolled": true
   },
   "outputs": [
    {
     "name": "stdout",
     "output_type": "stream",
     "text": [
      "50 0\n"
     ]
    },
    {
     "name": "stderr",
     "output_type": "stream",
     "text": [
      "2024-07-11 09:18:59.229854: I tensorflow/core/platform/cpu_feature_guard.cc:142] Your CPU supports instructions that this TensorFlow binary was not compiled to use: SSE4.1 SSE4.2 AVX AVX2 AVX512F FMA\n",
      "2024-07-11 09:18:59.262812: I tensorflow/core/platform/profile_utils/cpu_utils.cc:94] CPU Frequency: 3200000000 Hz\n",
      "2024-07-11 09:18:59.266045: I tensorflow/compiler/xla/service/service.cc:168] XLA service 0x56185253d030 executing computations on platform Host. Devices:\n",
      "2024-07-11 09:18:59.266081: I tensorflow/compiler/xla/service/service.cc:175]   StreamExecutor device (0): Host, Default Version\n",
      "2024-07-11 09:18:59.270363: I tensorflow/core/common_runtime/gpu/gpu_device.cc:1618] Found device 0 with properties: \n",
      "name: NVIDIA TITAN Xp major: 6 minor: 1 memoryClockRate(GHz): 1.582\n",
      "pciBusID: 0000:3b:00.0\n",
      "2024-07-11 09:18:59.270473: I tensorflow/stream_executor/platform/default/dso_loader.cc:44] Successfully opened dynamic library libcudart.so.10.0\n",
      "2024-07-11 09:18:59.270506: I tensorflow/stream_executor/platform/default/dso_loader.cc:44] Successfully opened dynamic library libcublas.so.10.0\n",
      "2024-07-11 09:18:59.270542: I tensorflow/stream_executor/platform/default/dso_loader.cc:44] Successfully opened dynamic library libcufft.so.10.0\n",
      "2024-07-11 09:18:59.270569: I tensorflow/stream_executor/platform/default/dso_loader.cc:44] Successfully opened dynamic library libcurand.so.10.0\n",
      "2024-07-11 09:18:59.270594: I tensorflow/stream_executor/platform/default/dso_loader.cc:44] Successfully opened dynamic library libcusolver.so.10.0\n",
      "2024-07-11 09:18:59.270621: I tensorflow/stream_executor/platform/default/dso_loader.cc:44] Successfully opened dynamic library libcusparse.so.10.0\n",
      "2024-07-11 09:18:59.270648: I tensorflow/stream_executor/platform/default/dso_loader.cc:44] Successfully opened dynamic library libcudnn.so.7\n",
      "2024-07-11 09:18:59.271847: I tensorflow/core/common_runtime/gpu/gpu_device.cc:1746] Adding visible gpu devices: 0\n",
      "2024-07-11 09:18:59.271911: I tensorflow/stream_executor/platform/default/dso_loader.cc:44] Successfully opened dynamic library libcudart.so.10.0\n",
      "2024-07-11 09:18:59.405978: I tensorflow/core/common_runtime/gpu/gpu_device.cc:1159] Device interconnect StreamExecutor with strength 1 edge matrix:\n",
      "2024-07-11 09:18:59.406005: I tensorflow/core/common_runtime/gpu/gpu_device.cc:1165]      0 \n",
      "2024-07-11 09:18:59.406010: I tensorflow/core/common_runtime/gpu/gpu_device.cc:1178] 0:   N \n",
      "2024-07-11 09:18:59.409933: I tensorflow/core/common_runtime/gpu/gpu_device.cc:1304] Created TensorFlow device (/job:localhost/replica:0/task:0/device:GPU:0 with 3117 MB memory) -> physical GPU (device: 0, name: NVIDIA TITAN Xp, pci bus id: 0000:3b:00.0, compute capability: 6.1)\n",
      "2024-07-11 09:18:59.411808: I tensorflow/compiler/xla/service/service.cc:168] XLA service 0x561854103370 executing computations on platform CUDA. Devices:\n",
      "2024-07-11 09:18:59.411823: I tensorflow/compiler/xla/service/service.cc:175]   StreamExecutor device (0): NVIDIA TITAN Xp, Compute Capability 6.1\n",
      "2024-07-11 09:19:01.790012: I tensorflow/stream_executor/platform/default/dso_loader.cc:44] Successfully opened dynamic library libcublas.so.10.0\n",
      "2024-07-11 09:19:02.136132: I tensorflow/stream_executor/platform/default/dso_loader.cc:44] Successfully opened dynamic library libcudnn.so.7\n",
      "2024-07-11 09:19:02.975429: W tensorflow/stream_executor/cuda/redzone_allocator.cc:312] Not found: ./bin/ptxas not found\n",
      "Relying on driver to perform ptx compilation. This message will be only logged once.\n"
     ]
    },
    {
     "name": "stdout",
     "output_type": "stream",
     "text": [
      "50 1\n",
      "50 2\n",
      "50 3\n",
      "50 4\n",
      "50 5\n",
      "50 6\n",
      "50 7\n",
      "50 8\n",
      "50 9\n",
      "100 0\n",
      "100 1\n",
      "100 2\n",
      "100 3\n",
      "100 4\n",
      "100 5\n",
      "100 6\n",
      "100 7\n",
      "100 8\n",
      "100 9\n",
      "150 0\n",
      "150 1\n",
      "150 2\n",
      "150 3\n",
      "150 4\n",
      "150 5\n",
      "150 6\n",
      "150 7\n",
      "150 8\n",
      "150 9\n",
      "200 0\n",
      "200 1\n",
      "200 2\n",
      "200 3\n",
      "200 4\n",
      "200 5\n",
      "200 6\n",
      "200 7\n",
      "200 8\n",
      "200 9\n",
      "250 0\n",
      "250 1\n",
      "250 2\n",
      "250 3\n",
      "250 4\n",
      "250 5\n",
      "250 6\n",
      "250 7\n",
      "250 8\n",
      "250 9\n",
      "300 0\n",
      "300 1\n",
      "300 2\n",
      "300 3\n",
      "300 4\n",
      "300 5\n",
      "300 6\n",
      "300 7\n",
      "300 8\n",
      "300 9\n",
      "350 0\n",
      "350 1\n",
      "350 2\n",
      "350 3\n",
      "350 4\n",
      "350 5\n",
      "350 6\n",
      "350 7\n",
      "350 8\n",
      "350 9\n",
      "400 0\n",
      "400 1\n",
      "400 2\n",
      "400 3\n",
      "400 4\n",
      "400 5\n",
      "400 6\n",
      "400 7\n",
      "400 8\n",
      "400 9\n",
      "450 0\n",
      "450 1\n",
      "450 2\n",
      "450 3\n",
      "450 4\n",
      "450 5\n",
      "450 6\n",
      "450 7\n",
      "450 8\n",
      "450 9\n",
      "500 0\n",
      "500 1\n",
      "500 2\n",
      "500 3\n",
      "500 4\n",
      "500 5\n",
      "500 6\n",
      "500 7\n",
      "500 8\n",
      "500 9\n",
      "600 0\n",
      "600 1\n",
      "600 2\n",
      "600 3\n",
      "600 4\n",
      "600 5\n",
      "600 6\n",
      "600 7\n",
      "600 8\n",
      "600 9\n",
      "700 0\n",
      "700 1\n",
      "700 2\n",
      "700 3\n",
      "700 4\n",
      "700 5\n",
      "700 6\n",
      "700 7\n",
      "700 8\n",
      "700 9\n",
      "800 0\n",
      "800 1\n",
      "800 2\n",
      "800 3\n",
      "800 4\n",
      "800 5\n",
      "800 6\n",
      "800 7\n",
      "800 8\n",
      "800 9\n",
      "900 0\n",
      "900 1\n",
      "900 2\n",
      "900 3\n",
      "900 4\n",
      "900 5\n",
      "900 6\n",
      "900 7\n",
      "900 8\n",
      "900 9\n",
      "1000 0\n",
      "1000 1\n",
      "1000 2\n",
      "1000 3\n",
      "1000 4\n",
      "1000 5\n",
      "1000 6\n",
      "1000 7\n",
      "1000 8\n",
      "1000 9\n",
      "1100 0\n",
      "1100 1\n",
      "1100 2\n",
      "1100 3\n",
      "1100 4\n",
      "1100 5\n",
      "1100 6\n",
      "1100 7\n",
      "1100 8\n",
      "1100 9\n",
      "1200 0\n",
      "1200 1\n",
      "1200 2\n",
      "1200 3\n",
      "1200 4\n",
      "1200 5\n",
      "1200 6\n",
      "1200 7\n",
      "1200 8\n",
      "1200 9\n"
     ]
    }
   ],
   "source": [
    "epsilon_s_full = []\n",
    "for n_train_sr_signal in [50, 100, 150, 200, 250, 300, 350, 400, 450, 500, 600, 700, 800, 900, 1000, 1100, 1200]:\n",
    "    epsilon_s_1 = []\n",
    "    for i in range(10):\n",
    "        print(n_train_sr_signal, i)\n",
    "        loaded_model = keras.models.load_model(f'run_{i}_id10_{n_train_sr_signal}_25.keras')\n",
    "        x_predict = loaded_model.predict([x_test_1, x_test_2])\n",
    "        fpr, tpr, th = roc_curve(y_test, x_predict)\n",
    "        f = interpolate.interp1d(fpr, tpr)\n",
    "        epsilon_s = f([0.001, 0.01, 0.1])\n",
    "        epsilon_s_1.append(epsilon_s)\n",
    "    epsilon_s_full.append(epsilon_s_1)\n",
    "epsilon_s_full = np.array(epsilon_s_full)\n",
    "\n",
    "\n",
    "        "
   ]
  },
  {
   "cell_type": "code",
   "execution_count": 9,
   "id": "dd64ca7b",
   "metadata": {},
   "outputs": [],
   "source": [
    "mean_results = np.mean(epsilon_s_full, axis = 1)\n",
    "std_results = np.std(epsilon_s_full, axis = 1)"
   ]
  },
  {
   "cell_type": "code",
   "execution_count": 10,
   "id": "b68e3d3d",
   "metadata": {
    "scrolled": true
   },
   "outputs": [
    {
     "name": "stdout",
     "output_type": "stream",
     "text": [
      "50 0\n",
      "50 1\n",
      "50 2\n",
      "50 3\n",
      "50 4\n",
      "50 5\n",
      "50 6\n",
      "50 7\n",
      "50 8\n",
      "50 9\n",
      "100 0\n",
      "100 1\n",
      "100 2\n",
      "100 3\n",
      "100 4\n",
      "100 5\n",
      "100 6\n",
      "100 7\n",
      "100 8\n",
      "100 9\n",
      "150 0\n",
      "150 1\n",
      "150 2\n",
      "150 3\n",
      "150 4\n",
      "150 5\n",
      "150 6\n",
      "150 7\n",
      "150 8\n",
      "150 9\n",
      "200 0\n",
      "200 1\n",
      "200 2\n",
      "200 3\n",
      "200 4\n",
      "200 5\n",
      "200 6\n",
      "200 7\n",
      "200 8\n",
      "200 9\n",
      "250 0\n",
      "250 1\n",
      "250 2\n",
      "250 3\n",
      "250 4\n",
      "250 5\n",
      "250 6\n",
      "250 7\n",
      "250 8\n",
      "250 9\n",
      "300 0\n",
      "300 1\n",
      "300 2\n",
      "300 3\n",
      "300 4\n",
      "300 5\n",
      "300 6\n",
      "300 7\n",
      "300 8\n",
      "300 9\n",
      "350 0\n",
      "350 1\n",
      "350 2\n",
      "350 3\n",
      "350 4\n",
      "350 5\n",
      "350 6\n",
      "350 7\n",
      "350 8\n",
      "350 9\n",
      "400 0\n",
      "400 1\n",
      "400 2\n",
      "400 3\n",
      "400 4\n",
      "400 5\n",
      "400 6\n",
      "400 7\n",
      "400 8\n",
      "400 9\n",
      "450 0\n",
      "450 1\n",
      "450 2\n",
      "450 3\n",
      "450 4\n",
      "450 5\n",
      "450 6\n",
      "450 7\n",
      "450 8\n",
      "450 9\n",
      "500 0\n",
      "500 1\n",
      "500 2\n",
      "500 3\n",
      "500 4\n",
      "500 5\n",
      "500 6\n",
      "500 7\n",
      "500 8\n",
      "500 9\n",
      "600 0\n",
      "600 1\n",
      "600 2\n",
      "600 3\n",
      "600 4\n",
      "600 5\n",
      "600 6\n",
      "600 7\n",
      "600 8\n",
      "600 9\n",
      "700 0\n",
      "700 1\n",
      "700 2\n",
      "700 3\n",
      "700 4\n",
      "700 5\n",
      "700 6\n",
      "700 7\n",
      "700 8\n",
      "700 9\n",
      "800 0\n",
      "800 1\n",
      "800 2\n",
      "800 3\n",
      "800 4\n",
      "800 5\n",
      "800 6\n",
      "800 7\n",
      "800 8\n",
      "800 9\n",
      "900 0\n",
      "900 1\n",
      "900 2\n",
      "900 3\n",
      "900 4\n",
      "900 5\n",
      "900 6\n",
      "900 7\n",
      "900 8\n",
      "900 9\n",
      "1000 0\n",
      "1000 1\n",
      "1000 2\n",
      "1000 3\n",
      "1000 4\n",
      "1000 5\n",
      "1000 6\n",
      "1000 7\n",
      "1000 8\n",
      "1000 9\n",
      "1100 0\n",
      "1100 1\n",
      "1100 2\n",
      "1100 3\n",
      "1100 4\n",
      "1100 5\n",
      "1100 6\n",
      "1100 7\n",
      "1100 8\n",
      "1100 9\n",
      "1200 0\n",
      "1200 1\n",
      "1200 2\n",
      "1200 3\n",
      "1200 4\n",
      "1200 5\n",
      "1200 6\n",
      "1200 7\n",
      "1200 8\n",
      "1200 9\n"
     ]
    }
   ],
   "source": [
    "epsilon_s_full_2 = []\n",
    "for n_train_sr_signal in [50, 100, 150, 200, 250, 300, 350, 400, 450, 500, 600, 700, 800, 900, 1000, 1100, 1200]:\n",
    "    epsilon_s_1_2 = []\n",
    "    for i in range(10):\n",
    "        print(n_train_sr_signal, i)\n",
    "        loaded_model_2 = keras.models.load_model(f'ft_run_{i}_id10_{n_train_sr_signal}_25.keras')\n",
    "        x_predict_2 = loaded_model_2.predict([x_test_1, x_test_2])\n",
    "        fpr_2, tpr_2, th_2 = roc_curve(y_test, x_predict_2)\n",
    "        f_2 = interpolate.interp1d(fpr_2, tpr_2)\n",
    "        epsilon_s_2 = f_2([0.001, 0.01, 0.1])\n",
    "        epsilon_s_1_2.append(epsilon_s_2)\n",
    "    epsilon_s_full_2.append(epsilon_s_1_2)\n",
    "epsilon_s_full_2 = np.array(epsilon_s_full_2)\n",
    "\n",
    "\n",
    "        "
   ]
  },
  {
   "cell_type": "code",
   "execution_count": 37,
   "id": "a6dff917",
   "metadata": {},
   "outputs": [
    {
     "data": {
      "text/plain": [
       "[<matplotlib.lines.Line2D at 0x7fc135f1c2d0>]"
      ]
     },
     "execution_count": 37,
     "metadata": {},
     "output_type": "execute_result"
    },
    {
     "data": {
      "image/png": "[encoded data removed]",
      "text/plain": [
       "<Figure size 640x480 with 1 Axes>"
      ]
     },
     "metadata": {},
     "output_type": "display_data"
    }
   ],
   "source": [
    "plt.plot(fpr_2, tpr_2)"
   ]
  },
  {
   "cell_type": "code",
   "execution_count": 11,
   "id": "50535fbf",
   "metadata": {},
   "outputs": [],
   "source": [
    "mean_results_2 = np.mean(epsilon_s_full_2, axis = 1)\n",
    "std_results_2 = np.std(epsilon_s_full_2, axis = 1)"
   ]
  },
  {
   "cell_type": "code",
   "execution_count": 12,
   "id": "9cc8af72",
   "metadata": {},
   "outputs": [
    {
     "name": "stdout",
     "output_type": "stream",
     "text": [
      "(17, 3)\n"
     ]
    }
   ],
   "source": [
    "print(np.shape(mean_results))"
   ]
  },
  {
   "cell_type": "code",
   "execution_count": 13,
   "id": "174281f7",
   "metadata": {},
   "outputs": [
    {
     "name": "stdout",
     "output_type": "stream",
     "text": [
      "(17, 3)\n"
     ]
    }
   ],
   "source": [
    "print(np.shape(mean_results_2))"
   ]
  },
  {
   "cell_type": "code",
   "execution_count": 14,
   "id": "c64069b8",
   "metadata": {},
   "outputs": [
    {
     "name": "stdout",
     "output_type": "stream",
     "text": [
      "[[0.00035786 0.00971    0.1361415 ]\n",
      " [0.00034    0.00989233 0.1459535 ]\n",
      " [0.00044545 0.013885   0.15274083]\n",
      " [0.00030333 0.01003417 0.126052  ]\n",
      " [0.00048125 0.01278375 0.174255  ]\n",
      " [0.00066417 0.01358    0.17664607]\n",
      " [0.00073625 0.0137075  0.178495  ]\n",
      " [0.00028229 0.01052833 0.1564025 ]\n",
      " [0.00032832 0.01131131 0.175295  ]\n",
      " [0.00073028 0.01627667 0.2041975 ]\n",
      " [0.00083792 0.0144825  0.19757667]\n",
      " [0.000694   0.01394    0.203805  ]\n",
      " [0.00045    0.012025   0.196565  ]\n",
      " [0.00111333 0.02208    0.24021   ]\n",
      " [0.00096917 0.0166575  0.21931   ]\n",
      " [0.00153167 0.02373333 0.24343875]\n",
      " [0.0015475  0.022285   0.24228   ]]\n"
     ]
    }
   ],
   "source": [
    "print(mean_results)"
   ]
  },
  {
   "cell_type": "code",
   "execution_count": 15,
   "id": "d72156d3",
   "metadata": {},
   "outputs": [
    {
     "name": "stdout",
     "output_type": "stream",
     "text": [
      "[[0.008025   0.06764    0.28194833]\n",
      " [0.00689125 0.06177    0.26960667]\n",
      " [0.005425   0.056395   0.25160643]\n",
      " [0.00459    0.046095   0.22466333]\n",
      " [0.01612    0.103715   0.35910167]\n",
      " [0.007495   0.0667475  0.2963475 ]\n",
      " [0.01089    0.08542    0.35309667]\n",
      " [0.009705   0.0782075  0.354385  ]\n",
      " [0.016205   0.12146    0.42474667]\n",
      " [0.01662    0.102535   0.38676042]\n",
      " [0.0070175  0.0737525  0.3778575 ]\n",
      " [0.012115   0.10097    0.399485  ]\n",
      " [0.019735   0.12173    0.41849917]\n",
      " [0.03049    0.14556333 0.4772625 ]\n",
      " [0.01917    0.1268     0.45767667]\n",
      " [0.020625   0.12431    0.4508    ]\n",
      " [0.01583    0.111405   0.47312917]]\n"
     ]
    }
   ],
   "source": [
    "print(mean_results_2)"
   ]
  },
  {
   "cell_type": "code",
   "execution_count": 23,
   "id": "a6a9e173",
   "metadata": {
    "scrolled": true
   },
   "outputs": [
    {
     "name": "stdout",
     "output_type": "stream",
     "text": [
      "[[0.0003578571428571429+/-8.184417748230538e-05\n",
      "  0.00971+/-0.0009112933422096064\n",
      "  0.13614149999999997+/-0.00825993040224916]\n",
      " [0.0003399999999999999+/-0.00010677078252031312\n",
      "  0.009892333333333333+/-0.0007747229612362514\n",
      "  0.1459535+/-0.013235588776099086]\n",
      " [0.00044544642857142857+/-0.00018117673132038445\n",
      "  0.013884999999999998+/-0.0013048084150556359\n",
      "  0.15274083333333335+/-0.008233109350866978]\n",
      " [0.0003033333333333333+/-0.00010076375009562385\n",
      "  0.010034166666666667+/-0.0007315741209504639\n",
      "  0.126052+/-0.018283636427144357]\n",
      " [0.00048125+/-0.00026299061295034846\n",
      "  0.012783750000000002+/-0.0033657746600894126\n",
      "  0.174255+/-0.011448153781287183]\n",
      " [0.0006641666666666666+/-0.0001031483559410102\n",
      "  0.01358+/-0.0010062181671983467\n",
      "  0.17664607142857144+/-0.005364392820406857]\n",
      " [0.00073625+/-0.0002002780185697428\n",
      "  0.013707500000000001+/-0.0020443840759505044\n",
      "  0.17849500000000001+/-0.01059614198659116]\n",
      " [0.00028228571428571425+/-0.00010735065563519454\n",
      "  0.010528333333333332+/-0.0008150000000000002\n",
      "  0.15640250000000003+/-0.00815008013764282]\n",
      " [0.0003283174603174603+/-8.400350926694074e-05\n",
      "  0.011311309523809524+/-0.0009840556049703032\n",
      "  0.175295+/-0.007079881708051342]\n",
      " [0.0007302777777777778+/-0.0002741497799595175\n",
      "  0.016276666666666665+/-0.0015862639544960149\n",
      "  0.20419749999999998+/-0.00924590754063656]\n",
      " [0.0008379166666666667+/-0.0001224808658525894\n",
      "  0.014482499999999999+/-0.0012014600492733828\n",
      "  0.19757666666666668+/-0.008011069425072619]\n",
      " [0.000694+/-0.00040267729014683705 0.01394+/-0.0030740689647436345\n",
      "  0.20380500000000001+/-0.013090138463744376]\n",
      " [0.00045000000000000004+/-4.47213595499958e-05\n",
      "  0.012025+/-0.0009231061694084813 0.196565+/-0.007750904785894356]\n",
      " [0.0011133333333333334+/-0.00026159765544311235\n",
      "  0.022080000000000006+/-0.002223083444227859\n",
      "  0.24020999999999998+/-0.00802103640435573]\n",
      " [0.0009691666666666666+/-0.0009933532576301566\n",
      "  0.0166575+/-0.008782305007798351\n",
      "  0.21931000000000003+/-0.03207889337243416]\n",
      " [0.0015316666666666669+/-0.0006959585715639498\n",
      "  0.023733333333333332+/-0.005507963931133415\n",
      "  0.24343875+/-0.020233830311201587]\n",
      " [0.0015475000000000003+/-0.0006814002127971491\n",
      "  0.022285+/-0.0032803239169325944\n",
      "  0.24228000000000005+/-0.011984535869194105]]\n"
     ]
    }
   ],
   "source": [
    "from uncertainties import unumpy\n",
    "array = unumpy.uarray(mean_results, std_results)\n",
    "print(array)"
   ]
  },
  {
   "cell_type": "code",
   "execution_count": 24,
   "id": "329c6119",
   "metadata": {
    "scrolled": true
   },
   "outputs": [
    {
     "name": "stdout",
     "output_type": "stream",
     "text": [
      "[[0.008025000000000001+/-0.0007082548976180819\n",
      "  0.06764+/-0.0013721880337621373\n",
      "  0.28194833333333336+/-0.003951036783765326]\n",
      " [0.006891249999999999+/-0.0003446941579139396\n",
      "  0.061770000000000005+/-0.0009113725912051556\n",
      "  0.26960666666666666+/-0.0043281135228488005]\n",
      " [0.005425+/-0.00017783419243778728\n",
      "  0.056394999999999994+/-0.0011176873444751888\n",
      "  0.2516064285714286+/-0.0027094438958003538]\n",
      " [0.00459+/-0.0010748953437428224 0.046095+/-0.008550422504180715\n",
      "  0.2246633333333333+/-0.047488747088126046]\n",
      " [0.016120000000000002+/-0.0009724196624914576\n",
      "  0.103715+/-0.00151014072191965\n",
      "  0.35910166666666665+/-0.003416336975963181]\n",
      " [0.007495+/-0.0018360895947638286\n",
      "  0.06674749999999999+/-0.016087970855580263\n",
      "  0.2963475+/-0.048820352377364096]\n",
      " [0.01089+/-0.0008002499609497022\n",
      "  0.08542000000000001+/-0.001736116355547634\n",
      "  0.35309666666666667+/-0.019288428885963955]\n",
      " [0.009705+/-0.0016887051252364932\n",
      "  0.07820750000000001+/-0.007617677221436991\n",
      "  0.354385+/-0.02421598697142036]\n",
      " [0.016204999999999997+/-0.0006694960791520742\n",
      "  0.12145999999999998+/-0.0028760910973055073\n",
      "  0.4247466666666667+/-0.005089639803889205]\n",
      " [0.016620000000000003+/-0.0006257795138864811\n",
      "  0.102535+/-0.0025687594282065413\n",
      "  0.38676041666666666+/-0.010893261367890083]\n",
      " [0.0070175+/-0.000478284695552764 0.0737525+/-0.0010282539812711611\n",
      "  0.3778575+/-0.0038564240236260293]\n",
      " [0.012115+/-0.0006293051723925367 0.10097+/-0.002046240455078534\n",
      "  0.399485+/-0.035044357962445254]\n",
      " [0.019735+/-0.0008402529381085199 0.12173+/-0.0013120975573485383\n",
      "  0.4184991666666666+/-0.0033769077941217113]\n",
      " [0.030489999999999996+/-0.005551792503327191\n",
      "  0.14556333333333332+/-0.01760318082052218\n",
      "  0.47726250000000014+/-0.0059925500623691135]\n",
      " [0.01917+/-0.0010129659421717987 0.1268+/-0.0014138599647772771\n",
      "  0.4576766666666667+/-0.002835148438206838]\n",
      " [0.020624999999999998+/-0.00431406131157173\n",
      "  0.12431+/-0.01497227103682003 0.4508+/-0.01574381227657393]\n",
      " [0.01583+/-0.0004106093033529561 0.111405+/-0.0011921514165574784\n",
      "  0.47312916666666666+/-0.0035934184629680993]]\n"
     ]
    }
   ],
   "source": [
    "array_2 = unumpy.uarray(mean_results_2, std_results_2)\n",
    "print(array_2)"
   ]
  },
  {
   "cell_type": "code",
   "execution_count": 25,
   "id": "b84f38aa",
   "metadata": {},
   "outputs": [],
   "source": [
    "x = np.array([50, 100, 150, 200, 250, 300, 350, 400, 450, 500, 600, 700, 800, 900, 1000, 1100, 1200])\n",
    "sig_before = np.sqrt(2*((x+25000)*np.log(x/25000 + 1) - x))\n",
    "                     \n",
    "sig_after_1 = unumpy.sqrt(2*((x*array[:,0]+25000*0.001)*unumpy.log(x*array[:, 0]/(25000*0.001) + 1)\n",
    "                         -x*array[:,0]))\n",
    "sig_after_2 = unumpy.sqrt(2*((x*array[:,1]+25000*0.01)*unumpy.log(x*array[:, 1]/(25000*0.01) + 1)\n",
    "                         -x*array[:,1]))\n",
    "sig_after_3 = unumpy.sqrt(2*((x*array[:,2]+25000*0.1)*unumpy.log(x*array[:, 2]/(25000*0.1) + 1)\n",
    "                         -x*array[:,2]))\n",
    "\n",
    "\n",
    "                     \n",
    "                    \n",
    "                      \n",
    "                      "
   ]
  },
  {
   "cell_type": "code",
   "execution_count": 26,
   "id": "c9c84b91",
   "metadata": {},
   "outputs": [],
   "source": [
    "sig_after_1_std = []\n",
    "sig_after_2_std = []\n",
    "sig_after_3_std = []\n",
    "sig_after_1_mean = []\n",
    "sig_after_2_mean = []\n",
    "sig_after_3_mean = []\n",
    "sig_after_1_mean.append(0)\n",
    "sig_after_2_mean.append(0)\n",
    "sig_after_3_mean.append(0)\n",
    "sig_after_1_std.append(0)\n",
    "sig_after_2_std.append(0)\n",
    "sig_after_3_std.append(0)\n",
    "\n",
    "sig_before = np.append(0, sig_before)\n",
    "\n",
    "for w, y, z in zip(sig_after_1, sig_after_2, sig_after_3):\n",
    "    sig_after_1_mean.append(w.n)\n",
    "    sig_after_1_std.append(w.s)\n",
    "    \n",
    "    sig_after_2_mean.append(y.n)\n",
    "    sig_after_2_std.append(y.s)\n",
    "    \n",
    "    sig_after_3_mean.append(z.n)\n",
    "    sig_after_3_std.append(z.s)\n",
    "    \n",
    "\n",
    "    \n",
    "    "
   ]
  },
  {
   "cell_type": "code",
   "execution_count": 28,
   "id": "aa72523d",
   "metadata": {},
   "outputs": [],
   "source": [
    "sig_after_1_2 = unumpy.sqrt(2*((x*array_2[:,0]+25000*0.001)*unumpy.log(x*array_2[:, 0]/(25000*0.001) + 1)\n",
    "                         -x*array_2[:,0]))\n",
    "sig_after_2_2 = unumpy.sqrt(2*((x*array_2[:,1]+25000*0.01)*unumpy.log(x*array_2[:, 1]/(25000*0.01) + 1)\n",
    "                         -x*array_2[:,1]))\n",
    "sig_after_3_2 = unumpy.sqrt(2*((x*array_2[:,2]+25000*0.1)*unumpy.log(x*array_2[:, 2]/(25000*0.1) + 1)\n",
    "                         -x*array_2[:,2]))\n",
    "\n",
    "\n",
    "                     \n",
    "                    \n",
    "                      \n",
    "                      "
   ]
  },
  {
   "cell_type": "code",
   "execution_count": 31,
   "id": "4d81ff8f",
   "metadata": {},
   "outputs": [],
   "source": [
    "sig_after_1_std_2 = []\n",
    "sig_after_2_std_2 = []\n",
    "sig_after_3_std_2 = []\n",
    "sig_after_1_mean_2 = []\n",
    "sig_after_2_mean_2 = []\n",
    "sig_after_3_mean_2 = []\n",
    "sig_after_1_mean_2.append(0)\n",
    "sig_after_2_mean_2.append(0)\n",
    "sig_after_3_mean_2.append(0)\n",
    "sig_after_1_std_2.append(0)\n",
    "sig_after_2_std_2.append(0)\n",
    "sig_after_3_std_2.append(0)\n",
    "\n",
    "\n",
    "for w, y, z in zip(sig_after_1_2, sig_after_2_2, sig_after_3_2):\n",
    "    sig_after_1_mean_2.append(w.n)\n",
    "    sig_after_1_std_2.append(w.s)\n",
    "    \n",
    "    sig_after_2_mean_2.append(y.n)\n",
    "    sig_after_2_std_2.append(y.s)\n",
    "    \n",
    "    sig_after_3_mean_2.append(z.n)\n",
    "    sig_after_3_std_2.append(z.s)\n",
    "    \n",
    "\n",
    "    \n",
    "    "
   ]
  },
  {
   "cell_type": "code",
   "execution_count": 34,
   "id": "2c29dab5",
   "metadata": {
    "scrolled": true
   },
   "outputs": [
    {
     "data": {
      "image/png": "[encoded data removed]",
      "text/plain": [
       "<Figure size 640x480 with 1 Axes>"
      ]
     },
     "metadata": {},
     "output_type": "display_data"
    }
   ],
   "source": [
    "plt.errorbar(sig_before, sig_after_1_mean, yerr = sig_after_1_std, fmt = '.', c='r', label = 'CWoLa 0.1%')\n",
    "plt.plot(sig_before, sig_after_1_mean, c = 'r')\n",
    "plt.errorbar(sig_before, sig_after_2_mean, yerr = sig_after_2_std, fmt = '.', c = 'g', label = 'CwoLa 1%')\n",
    "plt.plot(sig_before, sig_after_2_mean, c = 'g')\n",
    "plt.errorbar(sig_before, sig_after_3_mean, yerr = sig_after_3_std, fmt = '.', c = 'b', label = 'CWoLa 10%')\n",
    "plt.plot(sig_before, sig_after_3_mean, c = 'b')\n",
    "\n",
    "plt.errorbar(sig_before, sig_after_1_mean_2, yerr = sig_after_1_std_2, fmt = '.', c='orange', label = 'TL 0.1%')\n",
    "plt.plot(sig_before, sig_after_1_mean_2, c = 'orange')\n",
    "plt.errorbar(sig_before, sig_after_2_mean_2, yerr = sig_after_2_std_2, fmt = '.', c = 'purple', label = 'TL 1%')\n",
    "plt.plot(sig_before, sig_after_2_mean_2, c = 'purple')\n",
    "plt.errorbar(sig_before, sig_after_3_mean_2, yerr = sig_after_3_std_2, fmt = '.', c = 'pink', label = 'TL 10%')\n",
    "plt.plot(sig_before, sig_after_3_mean_2, c = 'pink')\n",
    "\n",
    "plt.plot(sig_before, sig_before, ls = '--', c = 'black')\n",
    "plt.xlabel('Significance before NN cut')\n",
    "plt.ylabel('Significance after NN cut')\n",
    "plt.legend(loc = 'upper right')\n",
    "plt.xlim(0, 8)\n",
    "plt.ylim(0, 15)\n",
    "plt.show()"
   ]
  },
  {
   "cell_type": "code",
   "execution_count": 63,
   "id": "9efe6d8d",
   "metadata": {},
   "outputs": [],
   "source": [
    "loaded_model = keras.models.load_model('ft_run_9_id10_1000_25.keras')\n",
    "x_predict = loaded_model.predict([x_test_1, x_test_2])\n"
   ]
  },
  {
   "cell_type": "code",
   "execution_count": 64,
   "id": "63d91bb7",
   "metadata": {},
   "outputs": [],
   "source": [
    "x_predict_0 = x_predict[y_test == 0]\n",
    "x_predict_1 = x_predict[y_test == 1]\n"
   ]
  },
  {
   "cell_type": "code",
   "execution_count": 65,
   "id": "3f13ac79",
   "metadata": {},
   "outputs": [],
   "source": [
    "fpr, tpr, th = roc_curve(y_test, x_predict)"
   ]
  },
  {
   "cell_type": "code",
   "execution_count": 66,
   "id": "8025dfbb",
   "metadata": {},
   "outputs": [
    {
     "data": {
      "image/png": "[encoded data removed]",
      "text/plain": [
       "<Figure size 640x480 with 1 Axes>"
      ]
     },
     "metadata": {},
     "output_type": "display_data"
    }
   ],
   "source": [
    "plt.hist(x_predict_0, bins = 20, color='blue', edgecolor='blue', fc=\"None\", lw=3)\n",
    "plt.hist(x_predict_1, bins = 20, color='orange', edgecolor='orange', fc=\"None\", lw=3)\n",
    "plt.show()\n"
   ]
  },
  {
   "cell_type": "code",
   "execution_count": 67,
   "id": "7238986b",
   "metadata": {},
   "outputs": [
    {
     "data": {
      "image/png": "[encoded data removed]",
      "text/plain": [
       "<Figure size 640x480 with 1 Axes>"
      ]
     },
     "metadata": {},
     "output_type": "display_data"
    },
    {
     "name": "stdout",
     "output_type": "stream",
     "text": [
      "0.7374694162499998\n"
     ]
    }
   ],
   "source": [
    "plt.plot(fpr, tpr)\n",
    "plt.show()\n",
    "print(roc_auc_score(y_test, x_predict))"
   ]
  },
  {
   "cell_type": "code",
   "execution_count": 55,
   "id": "9b7b7d67",
   "metadata": {},
   "outputs": [
    {
     "data": {
      "image/png": "[encoded data removed]",
      "text/plain": [
       "<Figure size 640x480 with 1 Axes>"
      ]
     },
     "metadata": {},
     "output_type": "display_data"
    }
   ],
   "source": [
    "plt.hist(x_predict_0, bins = 20, color='blue', edgecolor='blue', fc=\"None\", lw=3)\n",
    "plt.hist(x_predict_1, bins = 20, color='orange', edgecolor='orange', fc=\"None\", lw=3)\n",
    "plt.show()\n"
   ]
  },
  {
   "cell_type": "code",
   "execution_count": 62,
   "id": "c13201a0",
   "metadata": {},
   "outputs": [
    {
     "data": {
      "image/png": "[encoded data removed]",
      "text/plain": [
       "<Figure size 640x480 with 1 Axes>"
      ]
     },
     "metadata": {},
     "output_type": "display_data"
    },
    {
     "name": "stdout",
     "output_type": "stream",
     "text": [
      "0.8516413599999999\n"
     ]
    }
   ],
   "source": [
    "plt.plot(fpr, tpr)\n",
    "plt.show()\n",
    "print(roc_auc_score(y_test, x_predict))"
   ]
  }
 ],
 "metadata": {
  "kernelspec": {
   "display_name": "Python 3 (ipykernel)",
   "language": "python",
   "name": "python3"
  },
  "language_info": {
   "codemirror_mode": {
    "name": "ipython",
    "version": 3
   },
   "file_extension": ".py",
   "mimetype": "text/x-python",
   "name": "python",
   "nbconvert_exporter": "python",
   "pygments_lexer": "ipython3",
   "version": "3.7.7"
  }
 },
 "nbformat": 4,
 "nbformat_minor": 5
}
