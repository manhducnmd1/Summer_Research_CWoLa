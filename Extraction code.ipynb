{
 "cells": [
  {
   "cell_type": "code",
   "execution_count": 18,
   "id": "93e17557",
   "metadata": {
    "scrolled": true
   },
   "outputs": [],
   "source": [
    "import os\n",
    "os.getcwd()\n",
    "os.chdir(r'/home/manhducnmd/Delphes-3.5.0')"
   ]
  },
  {
   "cell_type": "code",
   "execution_count": 19,
   "id": "b79f045b",
   "metadata": {
    "scrolled": true
   },
   "outputs": [],
   "source": [
    "import numpy as np\n",
    "from matplotlib import pyplot as plt\n",
    "import matplotlib.colors as mcolors\n",
    "from matplotlib.font_manager import FontProperties\n",
    "import pickle"
   ]
  },
  {
   "cell_type": "code",
   "execution_count": 20,
   "id": "3197034f",
   "metadata": {
    "scrolled": true
   },
   "outputs": [
    {
     "data": {
      "text/plain": [
       "1"
      ]
     },
     "execution_count": 20,
     "metadata": {},
     "output_type": "execute_result"
    }
   ],
   "source": [
    "import ROOT\n",
    "ROOT.gSystem.Load(\"libDelphes\")"
   ]
  },
  {
   "cell_type": "code",
   "execution_count": 21,
   "id": "2ca898a5",
   "metadata": {
    "scrolled": true
   },
   "outputs": [],
   "source": [
    "try:\n",
    "    ROOT.gInterpreter.Declare('#include \"classes/DelphesClasses.h\"')\n",
    "    ROOT.gInterpreter.Declare('#include \"external/ExRootAnalysis/ExRootTreeReader.h\"')\n",
    "except:\n",
    "    pass"
   ]
  },
  {
   "cell_type": "markdown",
   "id": "de5fd6a3",
   "metadata": {},
   "source": [
    "Extract signal data files"
   ]
  },
  {
   "cell_type": "code",
   "execution_count": 30,
   "id": "5e229a63",
   "metadata": {},
   "outputs": [],
   "source": [
    "inputFile='/home/manhducnmd/pythia8312/events/id10_3.root'\n",
    "chain = ROOT.TChain(\"Delphes\")\n",
    "chain.Add(inputFile)\n",
    "\n",
    "# Create object of class ExRootTreeReader\n",
    "treeReader = ROOT.ExRootTreeReader(chain)\n",
    "numberOfEntries = treeReader.GetEntries()\n",
    "\n",
    "# Get pointers to branches used in this analysis\n",
    "branchJet = treeReader.UseBranch(\"Jet\")\n",
    "branchEFlowTrack = treeReader.UseBranch(\"EFlowTrack\")\n",
    "branchEFlowPhoton = treeReader.UseBranch(\"EFlowPhoton\")\n",
    "branchEFlowNeutralHadron = treeReader.UseBranch(\"EFlowNeutralHadron\")"
   ]
  },
  {
   "cell_type": "code",
   "execution_count": 31,
   "id": "6c66e900",
   "metadata": {
    "scrolled": true
   },
   "outputs": [],
   "source": [
    "Pt_signal = []\n",
    "\n",
    "P4_1_signal = []\n",
    "P4_2_signal = []\n",
    "\n",
    "Mjj_signal = []\n",
    "\n",
    "eta_1_signal = []\n",
    "eta_2_signal = []\n",
    "\n",
    "phi_1_signal = []\n",
    "phi_2_signal = []\n",
    "\n",
    "final_signal_eta = []\n",
    "final_signal_phi = []\n",
    "final_signal_Pt = []\n",
    "for i in range(0, numberOfEntries): \n",
    "    treeReader.ReadEntry(i)\n",
    "    \n",
    "    if branchJet.GetEntries() > 2:\n",
    "        jet1 = branchJet.At(0)      # The first leading jet\n",
    "        jet2 = branchJet.At(1)   # The second leading jet\n",
    "        jetvec1= jet1.P4() \n",
    "        jetvec2= jet2.P4() \n",
    "        jet = jetvec1 + jetvec2\n",
    "        if jetvec1.Pt() > 700 and jetvec2.Pt() > 700:\n",
    "            if np.abs(jetvec1.Eta()) <= 2 or np.abs(jetvec1.Eta()) <=2:\n",
    "                Pt_signal.append(jetvec1.Pt()) \n",
    "                \n",
    "                P4_1_signal.append(jetvec1)\n",
    "                P4_2_signal.append(jetvec2)\n",
    "                \n",
    "                Mjj_signal.append(jet.M())\n",
    "                \n",
    "                eta_1_signal.append(jetvec1.Eta())\n",
    "                eta_2_signal.append(jetvec2.Eta())\n",
    "                \n",
    "                phi_1_signal.append(jetvec1.Phi())\n",
    "                phi_2_signal.append(jetvec2.Phi()) \n",
    "                \n",
    "                constituent_signal_eta = []\n",
    "                constituent_signal_phi = []\n",
    "                constituent_signal_Pt = []\n",
    "                for constituent in jet1.Constituents: \n",
    "                    constituent_signal_eta.append(constituent.P4().Eta())\n",
    "                    constituent_signal_phi.append(constituent.P4().Phi())\n",
    "                    constituent_signal_Pt.append(constituent.P4().Pt())\n",
    "                #for constituent_2 in jet2.Constituents:\n",
    "                    #constituent_signal_eta.append(constituent_2.P4().Eta())\n",
    "                    #constituent_signal_phi.append(constituent_2.P4().Phi())\n",
    "                    #constituent_signal_Pt.append(constituent_2.P4().Pt())\n",
    "                final_signal_eta.append(constituent_signal_eta)\n",
    "                final_signal_phi.append(constituent_signal_phi)\n",
    "                final_signal_Pt.append(constituent_signal_Pt)\n",
    "            \n",
    "                \n",
    "Pt_signal = np.array(Pt_signal)\n",
    "\n",
    "P4_1_signal = np.array(P4_1_signal)\n",
    "P4_2_signal = np.array(P4_2_signal)\n",
    "\n",
    "Mjj_signal = np.array(Mjj_signal)\n",
    "\n",
    "eta_1_signal = np.array(eta_1_signal)\n",
    "eta_2_signal = np.array(eta_2_signal)\n",
    "\n",
    "phi_1_signal = np.array(phi_1_signal)\n",
    "phi_2_signal = np.array(phi_2_signal)"
   ]
  },
  {
   "cell_type": "code",
   "execution_count": 32,
   "id": "f20c80db",
   "metadata": {
    "scrolled": true
   },
   "outputs": [],
   "source": [
    "chain.Reset()"
   ]
  },
  {
   "cell_type": "markdown",
   "id": "ef158537",
   "metadata": {},
   "source": [
    "Extracting background data files"
   ]
  },
  {
   "cell_type": "code",
   "execution_count": 33,
   "id": "e09eef0b",
   "metadata": {},
   "outputs": [
    {
     "name": "stdout",
     "output_type": "stream",
     "text": [
      "100000\n"
     ]
    }
   ],
   "source": [
    "inputFile='/home/manhducnmd/pp_dijet/Events/run_05/tag_1_delphes_events.root'\n",
    "chain = ROOT.TChain(\"Delphes\")\n",
    "chain.Add(inputFile)\n",
    "\n",
    "# Create object of class ExRootTreeReader\n",
    "treeReader = ROOT.ExRootTreeReader(chain)\n",
    "numberOfEntries = treeReader.GetEntries()\n",
    "print(numberOfEntries)\n",
    "# Get pointers to branches used in this analysis\n",
    "branchJet = treeReader.UseBranch(\"Jet\")\n",
    "branchEFlowTrack = treeReader.UseBranch(\"EFlowTrack\")\n",
    "branchEFlowPhoton = treeReader.UseBranch(\"EFlowPhoton\")\n",
    "branchEFlowNeutralHadron = treeReader.UseBranch(\"EFlowNeutralHadron\")"
   ]
  },
  {
   "cell_type": "code",
   "execution_count": 34,
   "id": "ac213084",
   "metadata": {
    "scrolled": true
   },
   "outputs": [],
   "source": [
    "Pt_background = []\n",
    "\n",
    "P4_1_background = []\n",
    "P4_2_background = []\n",
    "\n",
    "Mjj_background = []\n",
    "\n",
    "eta_1_background = []\n",
    "eta_2_background = []\n",
    "\n",
    "phi_1_background = []\n",
    "phi_2_background = []\n",
    "\n",
    "final_background_eta = []\n",
    "final_background_phi = []\n",
    "final_background_Pt = []\n",
    "for i in range(0, numberOfEntries): \n",
    "    treeReader.ReadEntry(i)\n",
    "\n",
    "    if branchJet.GetEntries() > 2:\n",
    "        jet1 = branchJet.At(0)      # The first leading jet\n",
    "        jet2 = branchJet.At(1)   # The second leading jet\n",
    "        jetvec1= jet1.P4() \n",
    "        jetvec2= jet2.P4() \n",
    "        jet = jetvec1 + jetvec2\n",
    "        if jetvec1.Pt() > 700 and jetvec2.Pt() > 700:\n",
    "            if np.abs(jetvec1.Eta()) <= 2 or np.abs(jetvec1.Eta()) <=2:\n",
    "                Pt_background.append(jetvec1.Pt()) \n",
    "                \n",
    "                P4_1_background.append(jetvec1)\n",
    "                P4_2_background.append(jetvec2)\n",
    "                \n",
    "                Mjj_background.append(jet.M())\n",
    "                \n",
    "                eta_1_background.append(jetvec1.Eta())\n",
    "                eta_2_background.append(jetvec2.Eta())\n",
    "                \n",
    "                phi_1_background.append(jetvec1.Phi())\n",
    "                phi_2_background.append(jetvec2.Phi())\n",
    "                \n",
    "                constituent_background_eta = []\n",
    "                constituent_background_phi = []\n",
    "                constituent_background_Pt = []\n",
    "                for constituent in jet1.Constituents: \n",
    "                    constituent_background_eta.append(constituent.P4().Eta())\n",
    "                    constituent_background_phi.append(constituent.P4().Phi())\n",
    "                    constituent_background_Pt.append(constituent.P4().Pt())\n",
    "                final_background_eta.append(constituent_background_eta)\n",
    "                final_background_phi.append(constituent_background_phi)\n",
    "                final_background_Pt.append(constituent_background_Pt)\n",
    "            \n",
    "                \n",
    "Pt_background = np.array(Pt_background)\n",
    "\n",
    "P4_1_background = np.array(P4_1_background)\n",
    "P4_2_background = np.array(P4_2_background)\n",
    "\n",
    "Mjj_background = np.array(Mjj_background)\n",
    "\n",
    "eta_1_background = np.array(eta_1_background)\n",
    "eta_2_background = np.array(eta_2_background)\n",
    "\n",
    "phi_1_background = np.array(phi_1_background)\n",
    "phi_2_background = np.array(phi_2_background)"
   ]
  },
  {
   "cell_type": "code",
   "execution_count": 35,
   "id": "7c248375",
   "metadata": {
    "scrolled": true
   },
   "outputs": [],
   "source": [
    "chain.Reset()"
   ]
  },
  {
   "cell_type": "code",
   "execution_count": 36,
   "id": "7d03c9aa",
   "metadata": {
    "scrolled": true
   },
   "outputs": [
    {
     "name": "stdout",
     "output_type": "stream",
     "text": [
      "(77050,)\n",
      "(59251,)\n"
     ]
    },
    {
     "data": {
      "image/png": "[encoded data removed]",
      "text/plain": [
       "<Figure size 640x480 with 1 Axes>"
      ]
     },
     "metadata": {},
     "output_type": "display_data"
    }
   ],
   "source": [
    "plt.hist(Mjj_signal, bins = 'auto')\n",
    "plt.hist(Mjj_background, bins='auto')\n",
    "print(np.shape((Mjj_signal)))\n",
    "print(np.shape((Mjj_background)))\n",
    "\n",
    "#plt.xlim(4000,6000)\n",
    "plt.show()"
   ]
  },
  {
   "cell_type": "markdown",
   "id": "27ba92e3",
   "metadata": {},
   "source": [
    "Preprocessing the data (generate pixelated image, rotation, shifting, etc.)"
   ]
  },
  {
   "cell_type": "code",
   "execution_count": 37,
   "id": "c633e4ba",
   "metadata": {},
   "outputs": [],
   "source": [
    "#Code adapted from github.com/heidelberg-hepml/ml-tutorials/blob/main/tutorial-5-jet-classification-with-cnns.ipynb\n",
    "#Grid settings\n",
    "xpixels = np.arange(-1, 1, 2/75)\n",
    "ypixels = np.arange(-1, 1, 2/75)\n",
    "\n",
    "# function to return the image momenta for centroid and principal axis\n",
    "def img_mom (x, y, weights, x_power, y_power):\n",
    "    return ((x**x_power)*(y**y_power)*weights).sum()\n",
    "\n",
    "# returns the jet image\n",
    "def orig_image (etas, phis, es):\n",
    "    \"\"\"\n",
    "    Gives the value on grid with minimal distance,\n",
    "    eg. for xpixel = (0,1,2,3,..) eta=1.3 -> xpixel=1, eta=1.6 ->xpixel=2\n",
    "    \"\"\"\n",
    "    z = np.zeros((len(xpixels),len(ypixels)))\n",
    "    in_grid = ~((etas < xpixels[0]) | (etas > xpixels[-1]) | (phis < ypixels[0]) | (phis > ypixels[-1]))\n",
    "    xcoords = np.argmin(np.abs(etas[None,:] - xpixels[None,:,None]), axis = 1)\n",
    "    ycoords = np.argmin(np.abs(phis[None,:] - ypixels[None,:,None]), axis = 1)\n",
    "    z[xcoords[0][in_grid],ycoords[0][in_grid]] = es[in_grid]\n",
    "    return z\n",
    "\n",
    "# preprocess the jet\n",
    "def preprocessing(x ,y, weights, rotate=True, flip=True):\n",
    "    \"\"\"\n",
    "    (x,y) are the coordinates and weights the corresponding values, shifts\n",
    "    centroid to origin, rotates image, so that principal axis is vertical,\n",
    "    flips image, so that most weights lay in plane.\n",
    "    Method for calculating principal axis (similar to tensor of inertia):\n",
    "    https://en.wikipedia.org/wiki/Image_moment\n",
    "    here: y=phi, phi has modulo 2*np.pi but it's not been taken care of hear,\n",
    "    so possible issues with calculating the centroid\n",
    "    -> pre-shifting of events outside of this function solves the problem\n",
    "    for iamge-data with Delta_phi < 2*np.pi\n",
    "    \"\"\"\n",
    "\n",
    "    # Shift\n",
    "    x_centroid = img_mom(x, y, weights, 1, 0)/ weights.sum()\n",
    "    y_centroid = img_mom(x, y, weights, 0, 1)/ weights.sum()\n",
    "    x = x - x_centroid\n",
    "    y = y - y_centroid\n",
    "    if rotate:\n",
    "        #Ccovariant matrix, eigenvectors corr. to principal axis\n",
    "        u11 = img_mom(x, y, weights, 1, 1) / weights.sum()\n",
    "        u20 = img_mom(x, y, weights, 2, 0) / weights.sum()\n",
    "        u02 = img_mom(x, y, weights, 0, 2) / weights.sum()\n",
    "        cov = np.array([[u20, u11], [u11, u02]])\n",
    "\n",
    "        # Eigenvalues and eigenvectors of covariant matrix\n",
    "        evals, evecs = np.linalg.eig(cov)\n",
    "\n",
    "        # Sorts the eigenvalues, v1, [::-1] turns array around, \n",
    "        sort_indices = np.argsort(evals)[::-1]\n",
    "        e_1 = evecs[:, sort_indices[0]]  # Eigenvector with largest eigenvalue\n",
    "        e_2 = evecs[:, sort_indices[1]]\n",
    "        \n",
    "        # Theta to x_axis, arctan2 gives correct angle\n",
    "        theta = np.arctan2(e_1[0], e_1[1])\n",
    "  \n",
    "        # Rotation, so that princple axis is vertical\n",
    "        # anti-clockwise rotation matrix\n",
    "        rotation = np.matrix([[np.cos(theta), -np.sin(theta)], [np.sin(theta), np.cos(theta)]])\n",
    "        transformed_mat = rotation * np.stack([x,y])\n",
    "        x_rot, y_rot = transformed_mat.A\n",
    "    else: \n",
    "        x_rot, y_rot = x, y\n",
    "    \n",
    "    n_flips = 0\n",
    "  \n",
    "    # Flipping\n",
    "    if flip:\n",
    "        if x_rot[np.argmax(weights)] < 0.:\n",
    "            x_rot = -x_rot\n",
    "            n_flips  += 1\n",
    "        if y_rot[np.argmax(weights)] < 0.:\n",
    "            y_rot = -y_rot\n",
    "            n_flips += 1\n",
    "            \n",
    "    return x_rot, y_rot\n",
    "\n",
    "\n",
    "# function to convert the jet to an image\n",
    "def constit_to_img(phis, etas, pT, rotate, flip):\n",
    "                    \n",
    "    phis[phis < -np.pi] += 2*np.pi\n",
    "    phis[phis > np.pi] -= 2*np.pi\n",
    "                    \n",
    "    weights = pT\n",
    "    \n",
    "    etas, phis = preprocessing(etas, phis, weights, rotate, flip)\n",
    "\n",
    "    z_ori = orig_image(etas, phis, weights)\n",
    "    \n",
    "    return z_ori\n",
    "        \n",
    "    #print( \"Cropping and normalising\" )\n",
    "    #n_crop = 40\n",
    "    #z_new = np.zeros((z_ori.shape[0],n_crop, n_crop))\n",
    "    #for i in range(z_ori.shape[0]):\n",
    "        #Npix = z_ori[i,:,:].shape\n",
    "        #z_new[i,:,:] = z_ori[i, int(Npix[0]/2-n_crop/2) : int(Npix[0]/2+n_crop/2), int(Npix[1]/2-n_crop/2) : int(Npix[1]/2+n_crop/2) ]\n",
    "        #if norm:\n",
    "            #z_sum = z_new[i,:,:].sum()\n",
    "            #if z_sum != 0.:\n",
    "                #z_new[i,:,:] = z_new[i,:,:]/z_sum\n",
    "    \n",
    "    #print( \"Reshaping\" )\n",
    "    #z_out = z_new.reshape( (z_new.shape[0],-1) )\n",
    "    \n"
   ]
  },
  {
   "cell_type": "markdown",
   "id": "06021af9",
   "metadata": {},
   "source": [
    "Plot one jet event"
   ]
  },
  {
   "cell_type": "code",
   "execution_count": 38,
   "id": "7a2c02fc",
   "metadata": {},
   "outputs": [],
   "source": [
    "z = constit_to_img(np.array(final_signal_eta[0]), np.array(final_signal_phi[0]), np.array(final_signal_Pt[0]),\n",
    "                  False, False)"
   ]
  },
  {
   "cell_type": "code",
   "execution_count": 39,
   "id": "15e66987",
   "metadata": {
    "scrolled": true
   },
   "outputs": [
    {
     "data": {
      "image/png": "[encoded data removed]",
      "text/plain": [
       "<Figure size 500x500 with 2 Axes>"
      ]
     },
     "metadata": {},
     "output_type": "display_data"
    }
   ],
   "source": [
    "masked_data = np.ma.masked_equal(z, 0.)\n",
    "\n",
    "# Create a colormap based on 'jet'\n",
    "jet = plt.cm.jet\n",
    "\n",
    "# Create a custom colormap with white for masked values\n",
    "colors = jet(np.linspace(0, 1, 256))\n",
    "custom_cmap = mcolors.ListedColormap(colors)\n",
    "# Use a logarithmic norm, avoiding zero values\n",
    "norm = mcolors.LogNorm(vmin=masked_data.min(), vmax=masked_data.max())\n",
    "\n",
    "# Plot using imshow with the custom colormap and logarithmic normalization\n",
    "plt.figure(figsize = (5,5))\n",
    "plt.imshow(masked_data, cmap=custom_cmap, norm=norm, interpolation='nearest')\n",
    "cbar = plt.colorbar()\n",
    "cbar.set_label(\"P_T\")\n",
    "plt.xlabel(\"Eta\")\n",
    "plt.ylabel(\"Phi\")\n",
    "plt.gca().invert_yaxis()\n",
    "plt.show()"
   ]
  },
  {
   "cell_type": "markdown",
   "id": "0be511ec",
   "metadata": {},
   "source": [
    "After preprocessing"
   ]
  },
  {
   "cell_type": "code",
   "execution_count": 40,
   "id": "cd25643c",
   "metadata": {
    "scrolled": true
   },
   "outputs": [],
   "source": [
    "z = constit_to_img(np.array(final_signal_eta[0]), np.array(final_signal_phi[0]), np.array(final_signal_Pt[0]),\n",
    "                  True, True)"
   ]
  },
  {
   "cell_type": "code",
   "execution_count": 41,
   "id": "adee3fd3",
   "metadata": {},
   "outputs": [
    {
     "data": {
      "image/png": "[encoded data removed]",
      "text/plain": [
       "<Figure size 500x500 with 2 Axes>"
      ]
     },
     "metadata": {},
     "output_type": "display_data"
    }
   ],
   "source": [
    "\n",
    "masked_data = np.ma.masked_equal(z, 0.)\n",
    "\n",
    "# Create a colormap based on 'jet'\n",
    "jet = plt.cm.jet\n",
    "\n",
    "# Create a custom colormap with white for masked values\n",
    "colors = jet(np.linspace(0, 1, 256))\n",
    "custom_cmap = mcolors.ListedColormap(colors)\n",
    "# Use a logarithmic norm, avoiding zero values\n",
    "norm = mcolors.LogNorm(vmin=masked_data.min(), vmax=masked_data.max())\n",
    "\n",
    "# Plot using imshow with the custom colormap and logarithmic normalization\n",
    "plt.figure(figsize = (5,5))\n",
    "plt.imshow(masked_data, cmap=custom_cmap, norm=norm, interpolation='nearest')\n",
    "cbar = plt.colorbar()\n",
    "cbar.set_label(\"P_T\")\n",
    "plt.xlabel(\"Eta\")\n",
    "plt.ylabel(\"Phi\")\n",
    "plt.gca().invert_yaxis()\n",
    "plt.show()"
   ]
  },
  {
   "cell_type": "markdown",
   "id": "f5bf61b4",
   "metadata": {},
   "source": [
    "Working for all images"
   ]
  },
  {
   "cell_type": "code",
   "execution_count": 42,
   "id": "20da80ee",
   "metadata": {},
   "outputs": [],
   "source": [
    "all_images_signal_sr = []\n",
    "all_images_signal_sb = []\n",
    "for idx, xd in enumerate(final_signal_eta):\n",
    "    etas = np.array(final_signal_eta[idx])\n",
    "    phis = np.array(final_signal_phi[idx])\n",
    "    Pts = np.array(final_signal_Pt[idx])\n",
    "    if 4700 <= Mjj_signal[idx] <= 5500:\n",
    "        all_images_signal_sr.append(constit_to_img(etas, phis, Pts, True, True))\n",
    "    elif  4400 <= Mjj_signal[idx] <= 4700 or 5500 <= Mjj_signal[idx] <= 5800:\n",
    "        all_images_signal_sb.append(constit_to_img(etas, phis, Pts, True, True))\n",
    "all_images_signal_sr = np.array(all_images_signal_sr)\n",
    "all_images_signal_sb = np.array(all_images_signal_sb)"
   ]
  },
  {
   "cell_type": "code",
   "execution_count": 43,
   "id": "e0a22a76",
   "metadata": {},
   "outputs": [
    {
     "name": "stdout",
     "output_type": "stream",
     "text": [
      "(45561, 75, 75)\n"
     ]
    }
   ],
   "source": [
    "print(np.shape(all_images_signal_sr))"
   ]
  },
  {
   "cell_type": "code",
   "execution_count": 44,
   "id": "35e314ad",
   "metadata": {},
   "outputs": [
    {
     "data": {
      "image/png": "[encoded data removed]",
      "text/plain": [
       "<Figure size 500x500 with 2 Axes>"
      ]
     },
     "metadata": {},
     "output_type": "display_data"
    }
   ],
   "source": [
    "masked_data = np.ma.masked_equal(np.mean(all_images_signal_sr[0:10000], axis = 0), 0.)\n",
    "\n",
    "# Create a colormap based on 'jet'\n",
    "jet = plt.cm.jet\n",
    "\n",
    "# Create a custom colormap with white for masked values\n",
    "colors = jet(np.linspace(0, 1, 256))\n",
    "custom_cmap = mcolors.ListedColormap(colors)\n",
    "# Use a logarithmic norm, avoiding zero values\n",
    "norm = mcolors.LogNorm(vmin=10**-3, vmax=10**3)\n",
    "\n",
    "# Plot using imshow with the custom colormap and logarithmic normalization\n",
    "plt.figure(figsize = (5,5))\n",
    "plt.imshow(masked_data, cmap=custom_cmap, norm=norm, interpolation='nearest')\n",
    "cbar = plt.colorbar()\n",
    "cbar.set_label(\"P_T\")\n",
    "plt.xlabel(\"Eta\")\n",
    "plt.ylabel(\"Phi\")\n",
    "plt.gca().invert_yaxis()\n",
    "plt.show()"
   ]
  },
  {
   "cell_type": "code",
   "execution_count": 45,
   "id": "3ce99cf9",
   "metadata": {},
   "outputs": [],
   "source": [
    "all_images_background_sr = []\n",
    "all_images_background_sb = []\n",
    "for idx, xd in enumerate(final_background_eta):\n",
    "    etas = np.array(final_background_eta[idx])\n",
    "    phis = np.array(final_background_phi[idx])\n",
    "    Pts = np.array(final_background_Pt[idx])\n",
    "    if 4700 <= Mjj_background[idx] <= 5500:\n",
    "        all_images_background_sr.append(constit_to_img(etas, phis, Pts, True, True))\n",
    "    elif  4400 <= Mjj_background[idx] <= 4700 or 5500 <= Mjj_background[idx] <= 5800:\n",
    "        all_images_background_sb.append(constit_to_img(etas, phis, Pts, True, True))\n",
    "all_images_background_sr = np.array(all_images_background_sr)\n",
    "all_images_background_sb = np.array(all_images_background_sb)"
   ]
  },
  {
   "cell_type": "code",
   "execution_count": 48,
   "id": "ea608ef2",
   "metadata": {},
   "outputs": [
    {
     "name": "stdout",
     "output_type": "stream",
     "text": [
      "(2075, 75, 75) (2193, 75, 75)\n"
     ]
    }
   ],
   "source": [
    "print(np.shape(all_images_background_sr), np.shape(all_images_background_sb))"
   ]
  },
  {
   "cell_type": "code",
   "execution_count": 46,
   "id": "94cd498f",
   "metadata": {},
   "outputs": [
    {
     "data": {
      "image/png": "[encoded data removed]",
      "text/plain": [
       "<Figure size 500x500 with 2 Axes>"
      ]
     },
     "metadata": {},
     "output_type": "display_data"
    }
   ],
   "source": [
    "masked_data = np.ma.masked_equal(np.mean(all_images_background_sr, axis = 0), 0.)\n",
    "\n",
    "# Create a colormap based on 'jet'\n",
    "jet = plt.cm.jet\n",
    "\n",
    "# Create a custom colormap with white for masked values\n",
    "colors = jet(np.linspace(0, 1, 256))\n",
    "custom_cmap = mcolors.ListedColormap(colors)\n",
    "# Use a logarithmic norm, avoiding zero values\n",
    "norm = mcolors.LogNorm(vmin=10**-3, vmax=10**3)\n",
    "\n",
    "# Plot using imshow with the custom colormap and logarithmic normalization\n",
    "plt.figure(figsize = (5,5))\n",
    "plt.imshow(masked_data, cmap=custom_cmap, norm=norm, interpolation='nearest')\n",
    "cbar = plt.colorbar()\n",
    "cbar.set_label(\"P_T\")\n",
    "plt.xlabel(\"Eta\")\n",
    "plt.ylabel(\"Phi\")\n",
    "plt.gca().invert_yaxis()\n",
    "plt.show()"
   ]
  },
  {
   "cell_type": "markdown",
   "id": "406f29c5",
   "metadata": {},
   "source": [
    "Test one sample"
   ]
  },
  {
   "cell_type": "code",
   "execution_count": 47,
   "id": "646b1f19",
   "metadata": {},
   "outputs": [
    {
     "data": {
      "image/png": "[encoded data removed]",
      "text/plain": [
       "<Figure size 640x480 with 2 Axes>"
      ]
     },
     "metadata": {},
     "output_type": "display_data"
    }
   ],
   "source": [
    "scatter = plt.scatter(final_signal_eta[-1], final_signal_phi[-1], c= final_signal_Pt[-1], s = 0.5, cmap='jet')\n",
    "colorbar = plt.colorbar(scatter)\n",
    "colorbar.set_label('P_T')\n",
    "# Add labels and title\n",
    "plt.xlabel('eta')\n",
    "plt.ylabel('phi')\n",
    "plt.title('Jet distribution')\n",
    "\n",
    "# Show plot\n",
    "plt.grid(True)\n",
    "plt.show()"
   ]
  },
  {
   "cell_type": "markdown",
   "id": "e075e8d6",
   "metadata": {},
   "source": [
    "Saving files"
   ]
  },
  {
   "cell_type": "code",
   "execution_count": 1358,
   "id": "8378978a",
   "metadata": {
    "scrolled": true
   },
   "outputs": [],
   "source": [
    "os.chdir(r'/home/manhducnmd/pp_dijet')"
   ]
  },
  {
   "cell_type": "code",
   "execution_count": 1359,
   "id": "fe281b23",
   "metadata": {},
   "outputs": [],
   "source": [
    "with open('dd50_sr_jet_2_75.npy', 'wb') as f:\n",
    "    np.save(f, all_images_signal_sr)\n",
    "with open('dd50_sb_jet_2_75.npy', 'wb') as f:\n",
    "    np.save(f, all_images_signal_sb)"
   ]
  }
 ],
 "metadata": {
  "kernelspec": {
   "display_name": "Python 3 (ipykernel)",
   "language": "python",
   "name": "python3"
  },
  "language_info": {
   "codemirror_mode": {
    "name": "ipython",
    "version": 3
   },
   "file_extension": ".py",
   "mimetype": "text/x-python",
   "name": "python",
   "nbconvert_exporter": "python",
   "pygments_lexer": "ipython3",
   "version": "3.7.7"
  }
 },
 "nbformat": 4,
 "nbformat_minor": 5
}
