{
 "cells": [
  {
   "cell_type": "code",
   "execution_count": 5,
   "id": "4fbff1a2",
   "metadata": {},
   "outputs": [],
   "source": [
    "import os\n",
    "import numpy as np\n",
    "import tensorflow as tf\n",
    "from tensorflow import keras\n",
    "from tensorflow.keras import layers\n",
    "from matplotlib import pyplot as plt\n",
    "from matplotlib import colors as mcolors\n",
    "from sklearn.metrics import roc_curve\n",
    "from scipy import interpolate"
   ]
  },
  {
   "cell_type": "code",
   "execution_count": 6,
   "id": "1dd5b567",
   "metadata": {},
   "outputs": [],
   "source": [
    "os.chdir(r'/home/manhducnmd/pp_dijet/Results_full')\n"
   ]
  },
  {
   "cell_type": "code",
   "execution_count": 3,
   "id": "1fc5d916",
   "metadata": {},
   "outputs": [],
   "source": [
    "mean_results = np.load('cwola_mean_id10.npy')\n",
    "std_results = np.load('cwola_std_id10.npy')\n"
   ]
  },
  {
   "cell_type": "code",
   "execution_count": 10,
   "id": "6add5894",
   "metadata": {
    "scrolled": false
   },
   "outputs": [
    {
     "name": "stdout",
     "output_type": "stream",
     "text": [
      "[[0. 0. 0.]\n",
      " [0. 0. 0.]\n",
      " [0. 0. 0.]\n",
      " [0. 0. 0.]\n",
      " [0. 0. 0.]\n",
      " [0. 0. 0.]\n",
      " [0. 0. 0.]\n",
      " [0. 0. 0.]\n",
      " [0. 0. 0.]\n",
      " [0. 0. 0.]\n",
      " [0. 0. 0.]\n",
      " [0. 0. 0.]\n",
      " [0. 0. 0.]\n",
      " [0. 0. 0.]\n",
      " [0. 0. 0.]\n",
      " [0. 0. 0.]] [[1. 1. 1.]\n",
      " [1. 1. 1.]\n",
      " [1. 1. 1.]\n",
      " [1. 1. 1.]\n",
      " [1. 1. 1.]\n",
      " [1. 1. 1.]\n",
      " [1. 1. 1.]\n",
      " [1. 1. 1.]\n",
      " [1. 1. 1.]\n",
      " [1. 1. 1.]\n",
      " [1. 1. 1.]\n",
      " [1. 1. 1.]\n",
      " [1. 1. 1.]\n",
      " [1. 1. 1.]\n",
      " [1. 1. 1.]\n",
      " [1. 1. 1.]]\n"
     ]
    }
   ],
   "source": [
    "print(mean_results, std_results)"
   ]
  },
  {
   "cell_type": "code",
   "execution_count": 9,
   "id": "c43fe3af",
   "metadata": {},
   "outputs": [],
   "source": [
    "x = np.array([50, 100, 200, 250, 300, 350, 400, 450, 500, 600, 700, 800, 900, 1000, 1100, 1200])\n",
    "mean_results = np.zeros((np.shape(x)[0],3))\n",
    "std_results = np.ones((np.shape(x)[0],3))\n",
    "sig_before = np.sqrt(2*((x+25000)*np.log(x/25000 + 1) - x))\n",
    "                     \n",
    "sig_after_1 = np.sqrt(2*((x*mean_results[:,0]+25000*0.001)*np.log(x*mean_results[:, 0]/(25000*0.001) + 1)\n",
    "                         -x*mean_results[:,0]))\n",
    "sig_after_2 = np.sqrt(2*((x*mean_results[:,1]+25000*0.01)*np.log(x*mean_results[:, 1]/(25000*0.01) + 1)\n",
    "                         -x*mean_results[:,1]))\n",
    "sig_after_3 = np.sqrt(2*((x*mean_results[:,2]+25000*0.01)*np.log(x*mean_results[:, 2]/(25000*0.01) + 1)\n",
    "                         -x*mean_results[:,2]))\n",
    "\n",
    "\n",
    "                     \n",
    "                    \n",
    "                      \n",
    "                      "
   ]
  },
  {
   "cell_type": "code",
   "execution_count": 11,
   "id": "a6a9e173",
   "metadata": {},
   "outputs": [
    {
     "ename": "TypeError",
     "evalue": "'module' object is not callable",
     "output_type": "error",
     "traceback": [
      "\u001b[0;31m---------------------------------------------------------------------------\u001b[0m",
      "\u001b[0;31mTypeError\u001b[0m                                 Traceback (most recent call last)",
      "\u001b[0;32m/tmp/ipykernel_172648/2256109934.py\u001b[0m in \u001b[0;36m<module>\u001b[0;34m\u001b[0m\n\u001b[1;32m      1\u001b[0m \u001b[0;32mfrom\u001b[0m \u001b[0muncertainties\u001b[0m \u001b[0;32mimport\u001b[0m \u001b[0munumpy\u001b[0m\u001b[0;34m\u001b[0m\u001b[0;34m\u001b[0m\u001b[0m\n\u001b[0;32m----> 2\u001b[0;31m \u001b[0marray\u001b[0m \u001b[0;34m=\u001b[0m \u001b[0munumpy\u001b[0m\u001b[0;34m(\u001b[0m\u001b[0;34m[\u001b[0m\u001b[0mmean_results\u001b[0m\u001b[0;34m,\u001b[0m \u001b[0mstd_results\u001b[0m\u001b[0;34m]\u001b[0m\u001b[0;34m)\u001b[0m\u001b[0;34m\u001b[0m\u001b[0;34m\u001b[0m\u001b[0m\n\u001b[0m",
      "\u001b[0;31mTypeError\u001b[0m: 'module' object is not callable"
     ]
    }
   ],
   "source": [
    "from uncertainties import unumpy\n",
    "array = unumpy([mean_results, std_results])"
   ]
  }
 ],
 "metadata": {
  "kernelspec": {
   "display_name": "Python 3 (ipykernel)",
   "language": "python",
   "name": "python3"
  },
  "language_info": {
   "codemirror_mode": {
    "name": "ipython",
    "version": 3
   },
   "file_extension": ".py",
   "mimetype": "text/x-python",
   "name": "python",
   "nbconvert_exporter": "python",
   "pygments_lexer": "ipython3",
   "version": "3.7.7"
  }
 },
 "nbformat": 4,
 "nbformat_minor": 5
}
